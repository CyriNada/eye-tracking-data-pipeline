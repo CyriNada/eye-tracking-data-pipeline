{
 "cells": [
  {
   "cell_type": "code",
   "execution_count": 1,
   "id": "b125de6e",
   "metadata": {},
   "outputs": [
    {
     "name": "stderr",
     "output_type": "stream",
     "text": [
      "INFO:numexpr.utils:NumExpr defaulting to 16 threads.\n"
     ]
    }
   ],
   "source": [
    "%load_ext autoreload\n",
    "%autoreload 2\n",
    "\n",
    "import sys\n",
    "import os\n",
    "import glob\n",
    "from datetime import datetime\n",
    "import h5py\n",
    "\n",
    "# Add src to the path\n",
    "sys.path.insert(0, os.path.abspath(\"../src\"))\n",
    "import eye_tracking_pipeline as et\n",
    "\n",
    "import pandas as pd\n",
    "import numpy as np\n",
    "\n",
    "import plotly.express as px\n",
    "import plotly.graph_objects as go"
   ]
  },
  {
   "cell_type": "code",
   "execution_count": 2,
   "id": "fd48dda7",
   "metadata": {},
   "outputs": [],
   "source": [
    "# Change directories to where your data is:\n",
    "input_dir = r'C:\\Users\\Cyril\\HESSENBOX\\Eye-Tracking_LAVA (Jasmin Devi Nuscheler)\\Data_from_different_participants'\n",
    "output_dir = r'C:\\Users\\Cyril\\HESSENBOX\\Eye-Tracking_LAVA (Jasmin Devi Nuscheler)\\Data_from_different_participants\\processed_data'\n",
    "# input_dir = r'C:\\dev\\grk-2700\\eye-tracking-data-pipeline\\eye_tracking_pipeline\\tests\\testing_data\\Data_from_different_participants'\n",
    "# output_dir = r'C:\\dev\\grk-2700\\eye-tracking-data-pipeline\\eye_tracking_pipeline\\tests\\results'\n",
    "no_session_path = r'C:\\Users\\Cyril\\HESSENBOX\\Eye-Tracking_LAVA (Jasmin Devi Nuscheler)\\Participants\\no_session_participants.csv'\n",
    "no_session_table = pd.read_csv(no_session_path, delimiter=';')"
   ]
  },
  {
   "cell_type": "code",
   "execution_count": 4,
   "id": "e0dbe996",
   "metadata": {},
   "outputs": [],
   "source": [
    "# Process new data and save to output_dir\n",
    "# meta_table = et.run_pipeline(input_dir=input_dir, \n",
    "#                           output_dir=output_dir, \n",
    "#                           no_session_table=no_session_table)\n",
    "# meta_table.to_csv(os.path.join(output_dir, '.meta_table.csv'), index=False)\n",
    "# meta_table"
   ]
  },
  {
   "cell_type": "code",
   "execution_count": 5,
   "id": "a3b586dd",
   "metadata": {},
   "outputs": [
    {
     "data": {
      "application/vnd.microsoft.datawrangler.viewer.v0+json": {
       "columns": [
        {
         "name": "index",
         "rawType": "int64",
         "type": "integer"
        },
        {
         "name": "out",
         "rawType": "object",
         "type": "string"
        },
        {
         "name": "Subject",
         "rawType": "int64",
         "type": "integer"
        },
        {
         "name": "Country",
         "rawType": "object",
         "type": "string"
        },
        {
         "name": "Institution",
         "rawType": "object",
         "type": "string"
        },
        {
         "name": "Version",
         "rawType": "object",
         "type": "string"
        },
        {
         "name": "Run",
         "rawType": "int64",
         "type": "integer"
        },
        {
         "name": "conversionSuccess",
         "rawType": "int64",
         "type": "integer"
        },
        {
         "name": "hasMultiple",
         "rawType": "int64",
         "type": "integer"
        },
        {
         "name": "FileSize",
         "rawType": "int64",
         "type": "integer"
        },
        {
         "name": "Date",
         "rawType": "object",
         "type": "string"
        },
        {
         "name": "Time",
         "rawType": "object",
         "type": "string"
        },
        {
         "name": "in",
         "rawType": "object",
         "type": "string"
        },
        {
         "name": "missingCount",
         "rawType": "float64",
         "type": "float"
        },
        {
         "name": "missingPercent",
         "rawType": "float64",
         "type": "float"
        },
        {
         "name": "numberOfTrials",
         "rawType": "float64",
         "type": "float"
        },
        {
         "name": "Session",
         "rawType": "float64",
         "type": "float"
        },
        {
         "name": "institutionCode",
         "rawType": "float64",
         "type": "float"
        },
        {
         "name": "path",
         "rawType": "object",
         "type": "string"
        },
        {
         "name": "ifControlGroup",
         "rawType": "bool",
         "type": "boolean"
        },
        {
         "name": "conversionError",
         "rawType": "object",
         "type": "unknown"
        }
       ],
       "ref": "bec36c3b-b59a-43a7-966e-f0cba311198b",
       "rows": [
        [
         "0",
         "01_1_Ctrl_KN_A.csv",
         "1",
         "Control Group",
         "Konstanz",
         "A",
         "1",
         "1",
         "0",
         "6128111",
         "2025-02-06",
         "13h02.13.636",
         "4_2_01_trackerTest2022_2_5_2025-02-06_13h02.13.636.hdf5",
         "155.0",
         "0.0107653840811223",
         "20.0",
         "1.0",
         "2.0",
         "0.Adult_control_group\\Dialekt (Konstanz)\\Normalisiert\\A",
         "True",
         null
        ],
        [
         "1",
         "07_1_Ctrl_KN_A.csv",
         "7",
         "Control Group",
         "Konstanz",
         "A",
         "1",
         "1",
         "0",
         "6586715",
         "2025-05-06",
         "14h50.21.036",
         "4_2_07_trackerTest2022_2_5_2025-05-06_14h50.21.036.hdf5",
         "55.0",
         "0.003820240327846",
         "20.0",
         "1.0",
         "2.0",
         "0.Adult_control_group\\Dialekt (Konstanz)\\Normalisiert\\A",
         "True",
         null
        ],
        [
         "2",
         "11_1_Ctrl_KN_A.csv",
         "11",
         "Control Group",
         "Konstanz",
         "A",
         "1",
         "1",
         "0",
         "6193631",
         "2025-05-07",
         "08h58.18.954",
         "4_2_11_trackerTest2022_2_5_2025-05-07_08h58.18.954.hdf5",
         "210.0",
         "0.0145883987495658",
         "20.0",
         "1.0",
         "2.0",
         "0.Adult_control_group\\Dialekt (Konstanz)\\Normalisiert\\A",
         "True",
         null
        ],
        [
         "3",
         "15_1_Ctrl_KN_A.csv",
         "15",
         "Control Group",
         "Konstanz",
         "A",
         "1",
         "0",
         "1",
         "679981",
         "2025-05-07",
         "10h36.56.919",
         "4_2_15_trackerTest2022_2_5_2025-05-07_10h36.56.919.hdf5",
         null,
         null,
         null,
         null,
         "2.0",
         "0.Adult_control_group\\Dialekt (Konstanz)\\Normalisiert\\A",
         "True",
         "Error: Meta file is empty"
        ],
        [
         "4",
         "15_2_Ctrl_KN_A.csv",
         "15",
         "Control Group",
         "Konstanz",
         "A",
         "2",
         "0",
         "1",
         "2717191",
         "2025-05-07",
         "11h08.32.193",
         "4_2_15_trackerTest2022_2_5_2025-05-07_11h08.32.193.hdf5",
         null,
         null,
         null,
         null,
         "2.0",
         "0.Adult_control_group\\Dialekt (Konstanz)\\Normalisiert\\A",
         "True",
         "Error: Meta file is empty"
        ],
        [
         "5",
         "15_3_Ctrl_KN_A.csv",
         "15",
         "Control Group",
         "Konstanz",
         "A",
         "3",
         "1",
         "1",
         "4748125",
         "2025-05-07",
         "11h11.22.365",
         "4_2_15_trackerTest2022_2_5_2025-05-07_11h11.22.365.hdf5",
         "983.0",
         "0.0682781134958672",
         "20.0",
         "1.0",
         "2.0",
         "0.Adult_control_group\\Dialekt (Konstanz)\\Normalisiert\\A",
         "True",
         null
        ],
        [
         "6",
         "19_1_Ctrl_KN_A.csv",
         "19",
         "Control Group",
         "Konstanz",
         "A",
         "1",
         "1",
         "0",
         "5931575",
         "2025-05-07",
         "14h01.05.450",
         "4_2_19_trackerTest2022_2_5_2025-05-07_14h01.05.450.hdf5",
         "552.0",
         "0.0383386581469648",
         "20.0",
         "1.0",
         "2.0",
         "0.Adult_control_group\\Dialekt (Konstanz)\\Normalisiert\\A",
         "True",
         null
        ],
        [
         "7",
         "23_1_Ctrl_KN_A.csv",
         "23",
         "Control Group",
         "Konstanz",
         "A",
         "1",
         "1",
         "0",
         "6062603",
         "2025-05-07",
         "16h44.37.880",
         "4_2_23_trackerTest2022_2_5_2025-05-07_16h44.37.880.hdf5",
         "46.0",
         "0.0031944444444444",
         "20.0",
         "1.0",
         "2.0",
         "0.Adult_control_group\\Dialekt (Konstanz)\\Normalisiert\\A",
         "True",
         null
        ],
        [
         "8",
         "04_1_Ctrl_KN_B.csv",
         "4",
         "Control Group",
         "Konstanz",
         "B",
         "1",
         "0",
         "1",
         "98232",
         "2025-05-06",
         "09h57.53.887",
         "4_2_04_trackerTest2022_2_5_2025-05-06_09h57.53.887.hdf5",
         null,
         null,
         null,
         null,
         "2.0",
         "0.Adult_control_group\\Dialekt (Konstanz)\\Normalisiert\\B",
         "True",
         "Error: index 0 is out of bounds for axis 0 with size 0"
        ],
        [
         "9",
         "04_2_Ctrl_KN_B.csv",
         "4",
         "Control Group",
         "Konstanz",
         "B",
         "2",
         "1",
         "1",
         "6062597",
         "2025-05-06",
         "09h58.52.047",
         "4_2_04_trackerTest2022_2_5_2025-05-06_09h58.52.047.hdf5",
         "401.0",
         "0.0278530249357505",
         "20.0",
         "1.0",
         "2.0",
         "0.Adult_control_group\\Dialekt (Konstanz)\\Normalisiert\\B",
         "True",
         null
        ],
        [
         "10",
         "08_1_Ctrl_KN_B.csv",
         "8",
         "Control Group",
         "Konstanz",
         "B",
         "1",
         "1",
         "0",
         "6193625",
         "2025-05-06",
         "15h09.17.477",
         "4_2_08_trackerTest2022_2_5_2025-05-06_15h09.17.477.hdf5",
         "774.0",
         "0.05375",
         "20.0",
         "1.0",
         "2.0",
         "0.Adult_control_group\\Dialekt (Konstanz)\\Normalisiert\\B",
         "True",
         null
        ],
        [
         "11",
         "12_1_Ctrl_KN_B.csv",
         "12",
         "Control Group",
         "Konstanz",
         "B",
         "1",
         "1",
         "0",
         "5604005",
         "2025-05-07",
         "09h07.29.456",
         "4_2_12_trackerTest2022_2_5_2025-05-07_09h07.29.456.hdf5",
         "87.0",
         "0.0060420862559899",
         "20.0",
         "1.0",
         "2.0",
         "0.Adult_control_group\\Dialekt (Konstanz)\\Normalisiert\\B",
         "True",
         null
        ],
        [
         "12",
         "16_1_Ctrl_KN_B.csv",
         "16",
         "Control Group",
         "Konstanz",
         "B",
         "1",
         "1",
         "0",
         "5997089",
         "2025-05-07",
         "12h52.04.129",
         "4_2_16_trackerTest2022_2_5_2025-05-07_12h52.04.129.hdf5",
         "540.0",
         "0.0375078141279433",
         "20.0",
         "1.0",
         "2.0",
         "0.Adult_control_group\\Dialekt (Konstanz)\\Normalisiert\\B",
         "True",
         null
        ],
        [
         "13",
         "20_1_Ctrl_KN_B.csv",
         "20",
         "Control Group",
         "Konstanz",
         "B",
         "1",
         "1",
         "0",
         "6259145",
         "2025-05-07",
         "14h12.11.846",
         "4_2_20_trackerTest2022_2_5_2025-05-07_14h12.11.846.hdf5",
         "63.0",
         "0.004375",
         "20.0",
         "1.0",
         "2.0",
         "0.Adult_control_group\\Dialekt (Konstanz)\\Normalisiert\\B",
         "True",
         null
        ],
        [
         "14",
         "13_1_Ctrl_KN_A.csv",
         "13",
         "Control Group",
         "Konstanz",
         "A",
         "1",
         "1",
         "0",
         "6586715",
         "2025-05-07",
         "09h39.47.829",
         "2_4_13_trackerTest2022_2_5_2025-05-07_09h39.47.829.hdf5",
         "374.0",
         "0.0259830484924274",
         "20.0",
         "1.0",
         "4.0",
         "0.Adult_control_group\\Dialekt (Konstanz)\\Original\\A",
         "True",
         null
        ],
        [
         "15",
         "02_1_Ctrl_KN_A.csv",
         "2",
         "Control Group",
         "Konstanz",
         "A",
         "1",
         "0",
         "1",
         "679981",
         "2025-05-06",
         "08h01.58.268",
         "4_2_02_trackerTest2022_2_5_2025-05-06_08h01.58.268.hdf5",
         null,
         null,
         null,
         null,
         "2.0",
         "0.Adult_control_group\\Dialekt (Konstanz)\\Original\\A",
         "True",
         "Error: Meta file is empty"
        ],
        [
         "16",
         "02_2_Ctrl_KN_A.csv",
         "2",
         "Control Group",
         "Konstanz",
         "A",
         "2",
         "1",
         "1",
         "6455687",
         "2025-05-06",
         "08h25.13.045",
         "4_2_02_trackerTest2022_2_5_2025-05-06_08h25.13.045.hdf5",
         "189.0",
         "0.0131277349447801",
         "20.0",
         "1.0",
         "2.0",
         "0.Adult_control_group\\Dialekt (Konstanz)\\Original\\A",
         "True",
         null
        ],
        [
         "17",
         "05_1_Ctrl_KN_A.csv",
         "5",
         "Control Group",
         "Konstanz",
         "A",
         "1",
         "1",
         "0",
         "6455699",
         "2025-05-06",
         "10h57.33.073",
         "4_2_05_trackerTest2022_2_5_2025-05-06_10h57.33.073.hdf5",
         "282.0",
         "0.0195833333333333",
         "20.0",
         "1.0",
         "2.0",
         "0.Adult_control_group\\Dialekt (Konstanz)\\Original\\A",
         "True",
         null
        ],
        [
         "18",
         "08_1_Ctrl_KN_A.csv",
         "8",
         "Control Group",
         "Konstanz",
         "A",
         "1",
         "0",
         "0",
         "4092985",
         "2025-05-06",
         "15h32.12.819",
         "4_2_08_trackerTest2022_2_5_2025-05-06_15h32.12.819.hdf5",
         null,
         null,
         null,
         null,
         "2.0",
         "0.Adult_control_group\\Dialekt (Konstanz)\\Original\\A",
         "True",
         "Error: Meta file is empty"
        ],
        [
         "19",
         "09_1_Ctrl_KN_A.csv",
         "9",
         "Control Group",
         "Konstanz",
         "A",
         "1",
         "0",
         "1",
         "1537939",
         "2025-05-06",
         "15h36.23.814",
         "4_2_09_trackerTest2022_2_5_2025-05-06_15h36.23.814.hdf5",
         null,
         null,
         null,
         null,
         "2.0",
         "0.Adult_control_group\\Dialekt (Konstanz)\\Original\\A",
         "True",
         "Error: Meta file is empty"
        ],
        [
         "20",
         "09_2_Ctrl_KN_A.csv",
         "9",
         "Control Group",
         "Konstanz",
         "A",
         "2",
         "1",
         "1",
         "5141215",
         "2025-05-06",
         "15h39.01.484",
         "4_2_09_trackerTest2022_2_5_2025-05-06_15h39.01.484.hdf5",
         "284.0",
         "0.0197235919161052",
         "20.0",
         "1.0",
         "2.0",
         "0.Adult_control_group\\Dialekt (Konstanz)\\Original\\A",
         "True",
         null
        ],
        [
         "21",
         "17_1_Ctrl_KN_A.csv",
         "17",
         "Control Group",
         "Konstanz",
         "A",
         "1",
         "1",
         "0",
         "5800547",
         "2025-05-07",
         "13h16.58.948",
         "4_2_17_trackerTest2022_2_5_2025-05-07_13h16.58.948.hdf5",
         "168.0",
         "0.0116690977286934",
         "20.0",
         "1.0",
         "2.0",
         "0.Adult_control_group\\Dialekt (Konstanz)\\Original\\A",
         "True",
         null
        ],
        [
         "22",
         "21_1_Ctrl_KN_A.csv",
         "21",
         "Control Group",
         "Konstanz",
         "A",
         "1",
         "1",
         "0",
         "6652229",
         "2025-05-07",
         "15h54.00.843",
         "4_2_21_trackerTest2022_2_5_2025-05-07_15h54.00.843.hdf5",
         "42.0",
         "0.0029168692270296",
         "20.0",
         "1.0",
         "2.0",
         "0.Adult_control_group\\Dialekt (Konstanz)\\Original\\A",
         "True",
         null
        ],
        [
         "23",
         "22_2_Ctrl_KN_B.csv",
         "22",
         "Control Group",
         "Konstanz",
         "B",
         "2",
         "1",
         "1",
         "4944673",
         "2025-05-07",
         "16h35.15.218",
         "2_4_22_trackerTest2022_2_5_2025-05-07_16h35.15.218.hdf5",
         "176.0",
         "0.0122239199888873",
         "20.0",
         "1.0",
         "4.0",
         "0.Adult_control_group\\Dialekt (Konstanz)\\Original\\B",
         "True",
         null
        ],
        [
         "24",
         "22_1_Ctrl_KN_B.csv",
         "22",
         "Control Group",
         "Konstanz",
         "B",
         "1",
         "0",
         "1",
         "3372331",
         "2025-05-07",
         "16h05.42.912",
         "4_2_22_trackerTest2022_2_5_2025-05-07_16h05.42.912.hdf5",
         null,
         null,
         null,
         null,
         "2.0",
         "0.Adult_control_group\\Dialekt (Konstanz)\\Original\\B",
         "True",
         "Error: Meta file is empty"
        ],
        [
         "25",
         "03_1_Ctrl_KN_B.csv",
         "3",
         "Control Group",
         "Konstanz",
         "B",
         "1",
         "1",
         "0",
         "6193625",
         "2025-05-06",
         "08h58.50.286",
         "4_2_03_trackerTest2022_2_5_2025-05-06_08h58.50.286.hdf5",
         "186.0",
         "0.0129184608973468",
         "20.0",
         "1.0",
         "2.0",
         "0.Adult_control_group\\Dialekt (Konstanz)\\Original\\B",
         "True",
         null
        ],
        [
         "26",
         "06_1_Ctrl_KN_B.csv",
         "6",
         "Control Group",
         "Konstanz",
         "B",
         "1",
         "1",
         "0",
         "6324677",
         "2025-05-06",
         "12h03.41.300",
         "4_2_06_trackerTest2022_2_5_2025-05-06_12h03.41.300.hdf5",
         "444.0",
         "0.0308333333333333",
         "20.0",
         "1.0",
         "2.0",
         "0.Adult_control_group\\Dialekt (Konstanz)\\Original\\B",
         "True",
         null
        ],
        [
         "27",
         "10_1_Ctrl_KN_B.csv",
         "10",
         "Control Group",
         "Konstanz",
         "B",
         "1",
         "0",
         "1",
         "2979247",
         "2025-05-06",
         "15h48.10.255",
         "4_2_10_trackerTest2022_2_5_2025-05-06_15h48.10.255.hdf5",
         null,
         null,
         null,
         null,
         "2.0",
         "0.Adult_control_group\\Dialekt (Konstanz)\\Original\\B",
         "True",
         "Error: Meta file is empty"
        ],
        [
         "28",
         "10_2_Ctrl_KN_B.csv",
         "10",
         "Control Group",
         "Konstanz",
         "B",
         "2",
         "0",
         "1",
         "1472425",
         "2025-05-06",
         "16h14.26.371",
         "4_2_10_trackerTest2022_2_5_2025-05-06_16h14.26.371.hdf5",
         null,
         null,
         null,
         null,
         "2.0",
         "0.Adult_control_group\\Dialekt (Konstanz)\\Original\\B",
         "True",
         "Error: Meta file is empty"
        ],
        [
         "29",
         "10_3_Ctrl_KN_B.csv",
         "10",
         "Control Group",
         "Konstanz",
         "B",
         "3",
         "1",
         "1",
         "4944673",
         "2025-05-06",
         "16h16.02.614",
         "4_2_10_trackerTest2022_2_5_2025-05-06_16h16.02.614.hdf5",
         "247.0",
         "0.0171599277476726",
         "20.0",
         "1.0",
         "2.0",
         "0.Adult_control_group\\Dialekt (Konstanz)\\Original\\B",
         "True",
         null
        ],
        [
         "30",
         "14_1_Ctrl_KN_B.csv",
         "14",
         "Control Group",
         "Konstanz",
         "B",
         "1",
         "0",
         "1",
         "2848219",
         "2025-05-07",
         "10h11.12.134",
         "4_2_14_trackerTest2022_2_5_2025-05-07_10h11.12.134.hdf5",
         null,
         null,
         null,
         null,
         "2.0",
         "0.Adult_control_group\\Dialekt (Konstanz)\\Original\\B",
         "True",
         "Error: Meta file is empty"
        ],
        [
         "31",
         "14_2_Ctrl_KN_B.csv",
         "14",
         "Control Group",
         "Konstanz",
         "B",
         "2",
         "1",
         "1",
         "4748125",
         "2025-05-07",
         "10h29.17.563",
         "4_2_14_trackerTest2022_2_5_2025-05-07_10h29.17.563.hdf5",
         "138.0",
         "0.0095839988888117",
         "20.0",
         "1.0",
         "2.0",
         "0.Adult_control_group\\Dialekt (Konstanz)\\Original\\B",
         "True",
         null
        ],
        [
         "32",
         "18_1_Ctrl_KN_B.csv",
         "18",
         "Control Group",
         "Konstanz",
         "B",
         "1",
         "1",
         "0",
         "5800541",
         "2025-05-07",
         "13h37.19.829",
         "4_2_18_trackerTest2022_2_5_2025-05-07_13h37.19.829.hdf5",
         "200.0",
         "0.0138898534620459",
         "20.0",
         "1.0",
         "2.0",
         "0.Adult_control_group\\Dialekt (Konstanz)\\Original\\B",
         "True",
         null
        ],
        [
         "33",
         "04_1_Ctrl_MR_A.csv",
         "4",
         "Control Group",
         "Marburg",
         "A",
         "1",
         "0",
         "1",
         "5472971",
         "2025-02-25",
         "13h30.35.800",
         "4_1_04_trackerTest2022_2_5_2025-02-25_13h30.35.800.hdf5",
         null,
         null,
         null,
         null,
         "1.0",
         "0.Adult_control_group\\Standard (Marburg)\\Normalisiert\\A",
         "True",
         "Error: Meta file is empty"
        ],
        [
         "34",
         "04_2_Ctrl_MR_A.csv",
         "4",
         "Control Group",
         "Marburg",
         "A",
         "2",
         "1",
         "1",
         "4813645",
         "2025-02-25",
         "13h36.33.188",
         "4_1_04_trackerTest2022_2_5_2025-02-25_13h36.33.188.hdf5",
         "3612.0",
         "0.2509204584925321",
         "20.0",
         "1.0",
         "1.0",
         "0.Adult_control_group\\Standard (Marburg)\\Normalisiert\\A",
         "True",
         null
        ],
        [
         "35",
         "07_1_Ctrl_MR_A.csv",
         "7",
         "Control Group",
         "Marburg",
         "A",
         "1",
         "1",
         "0",
         "5866055",
         "2025-02-25",
         "15h29.41.093",
         "4_1_07_trackerTest2022_2_5_2025-02-25_15h29.41.093.hdf5",
         "124.0",
         "0.0086129054664166",
         "20.0",
         "1.0",
         "1.0",
         "0.Adult_control_group\\Standard (Marburg)\\Normalisiert\\A",
         "True",
         null
        ],
        [
         "36",
         "11_1_Ctrl_MR_A.csv",
         "11",
         "Control Group",
         "Marburg",
         "A",
         "1",
         "0",
         "1",
         "98232",
         "2025-04-29",
         "12h13.11.101",
         "4_1_11_trackerTest2022_2_5_2025-04-29_12h13.11.101.hdf5",
         null,
         null,
         null,
         null,
         "1.0",
         "0.Adult_control_group\\Standard (Marburg)\\Normalisiert\\A",
         "True",
         "Error: index 0 is out of bounds for axis 0 with size 0"
        ],
        [
         "37",
         "11_2_Ctrl_MR_A.csv",
         "11",
         "Control Group",
         "Marburg",
         "A",
         "2",
         "0",
         "1",
         "98232",
         "2025-04-29",
         "12h14.37.522",
         "4_1_11_trackerTest2022_2_5_2025-04-29_12h14.37.522.hdf5",
         null,
         null,
         null,
         null,
         "1.0",
         "0.Adult_control_group\\Standard (Marburg)\\Normalisiert\\A",
         "True",
         "Error: index 0 is out of bounds for axis 0 with size 0"
        ],
        [
         "38",
         "11_3_Ctrl_MR_A.csv",
         "11",
         "Control Group",
         "Marburg",
         "A",
         "3",
         "0",
         "1",
         "679981",
         "2025-04-29",
         "12h16.32.852",
         "4_1_11_trackerTest2022_2_5_2025-04-29_12h16.32.852.hdf5",
         null,
         null,
         null,
         null,
         "1.0",
         "0.Adult_control_group\\Standard (Marburg)\\Normalisiert\\A",
         "True",
         "Error: Meta file is empty"
        ],
        [
         "39",
         "11_4_Ctrl_MR_A.csv",
         "11",
         "Control Group",
         "Marburg",
         "A",
         "4",
         "1",
         "1",
         "6390173",
         "2025-04-29",
         "12h18.28.600",
         "4_1_11_trackerTest2022_2_5_2025-04-29_12h18.28.600.hdf5",
         "126.0",
         "0.0087518232965201",
         "20.0",
         "1.0",
         "1.0",
         "0.Adult_control_group\\Standard (Marburg)\\Normalisiert\\A",
         "True",
         null
        ],
        [
         "40",
         "15_1_Ctrl_MR_A.csv",
         "15",
         "Control Group",
         "Marburg",
         "A",
         "1",
         "0",
         "1",
         "4092985",
         "2025-05-21",
         "13h05.01.118",
         "4_1_15_trackerTest2022_2_5_2025-05-21_13h05.01.118.hdf5",
         null,
         null,
         null,
         null,
         "1.0",
         "0.Adult_control_group\\Standard (Marburg)\\Normalisiert\\A",
         "True",
         "Error: Meta file is empty"
        ],
        [
         "41",
         "15_2_Ctrl_MR_A.csv",
         "15",
         "Control Group",
         "Marburg",
         "A",
         "2",
         "1",
         "1",
         "4944667",
         "2025-05-21",
         "13h11.03.446",
         "4_1_15_trackerTest2022_2_5_2025-05-21_13h11.03.446.hdf5",
         "504.0",
         "0.0350121569989579",
         "20.0",
         "1.0",
         "1.0",
         "0.Adult_control_group\\Standard (Marburg)\\Normalisiert\\A",
         "True",
         null
        ],
        [
         "42",
         "02_1_Ctrl_MR_B.csv",
         "2",
         "Control Group",
         "Marburg",
         "B",
         "1",
         "1",
         "0",
         "5997089",
         "2025-02-12",
         "14h27.01.772",
         "4_1_02_trackerTest2022_2_5_2025-02-12_14h27.01.772.hdf5",
         "257.0",
         "0.0178521811614337",
         "20.0",
         "1.0",
         "1.0",
         "0.Adult_control_group\\Standard (Marburg)\\Normalisiert\\B",
         "True",
         null
        ],
        [
         "43",
         "06_1_Ctrl_MR_B.csv",
         "6",
         "Control Group",
         "Marburg",
         "B",
         "1",
         "1",
         "0",
         "8355587",
         "2025-02-25",
         "15h18.15.018",
         "4_1_06_trackerTest2022_2_5_2025-02-25_15h18.15.018.hdf5",
         "207.0",
         "0.0143789941650458",
         "20.0",
         "1.0",
         "1.0",
         "0.Adult_control_group\\Standard (Marburg)\\Normalisiert\\B",
         "True",
         null
        ],
        [
         "44",
         "12_1_Ctrl_MR_B.csv",
         "12",
         "Control Group",
         "Marburg",
         "B",
         "1",
         "1",
         "0",
         "6193631",
         "2025-04-29",
         "12h34.15.447",
         "4_1_12_trackerTest2022_2_5_2025-04-29_12h34.15.447.hdf5",
         "141.0",
         "0.0097937070222963",
         "20.0",
         "1.0",
         "1.0",
         "0.Adult_control_group\\Standard (Marburg)\\Normalisiert\\B",
         "True",
         null
        ],
        [
         "45",
         "16_1_Ctrl_MR_B.csv",
         "16",
         "Control Group",
         "Marburg",
         "B",
         "1",
         "1",
         "0",
         "6521195",
         "2025-05-28",
         "15h00.01.825",
         "4_1_16_trackerTest2022_2_5_2025-05-28_15h00.01.825.hdf5",
         "368.0",
         "0.0255644320944772",
         "20.0",
         "1.0",
         "1.0",
         "0.Adult_control_group\\Standard (Marburg)\\Normalisiert\\B",
         "True",
         null
        ],
        [
         "46",
         "03_1_Ctrl_MR_A.csv",
         "3",
         "Control Group",
         "Marburg",
         "A",
         "1",
         "1",
         "0",
         "5800541",
         "2025-02-12",
         "14h37.39.719",
         "4_1_03_trackerTest2022_2_5_2025-02-12_14h37.39.719.hdf5",
         "10.0",
         "0.0006946856547412",
         "20.0",
         "1.0",
         "1.0",
         "0.Adult_control_group\\Standard (Marburg)\\Original\\A",
         "True",
         null
        ],
        [
         "47",
         "05_1_Ctrl_MR_A.csv",
         "5",
         "Control Group",
         "Marburg",
         "A",
         "1",
         "1",
         "0",
         "6586709",
         "2025-02-25",
         "14h11.36.026",
         "4_1_05_trackerTest2022_2_5_2025-02-25_14h11.36.026.hdf5",
         "88.0",
         "0.0061132337617228",
         "20.0",
         "1.0",
         "1.0",
         "0.Adult_control_group\\Standard (Marburg)\\Original\\A",
         "True",
         null
        ],
        [
         "48",
         "09_1_Ctrl_MR_A.csv",
         "9",
         "Control Group",
         "Marburg",
         "A",
         "1",
         "1",
         "0",
         "6128117",
         "2025-03-10",
         "12h50.09.350",
         "4_1_09_trackerTest2022_2_5_2025-03-10_12h50.09.350.hdf5",
         "98.0",
         "0.0068074465129202",
         "20.0",
         "1.0",
         "1.0",
         "0.Adult_control_group\\Standard (Marburg)\\Original\\A",
         "True",
         null
        ],
        [
         "49",
         "13_1_Ctrl_MR_A.csv",
         "13",
         "Control Group",
         "Marburg",
         "A",
         "1",
         "1",
         "0",
         "6324653",
         "2025-04-29",
         "12h48.43.160",
         "4_1_13_trackerTest2022_2_5_2025-04-29_12h48.43.160.hdf5",
         "50.0",
         "0.0034734282737061",
         "20.0",
         "1.0",
         "1.0",
         "0.Adult_control_group\\Standard (Marburg)\\Original\\A",
         "True",
         null
        ]
       ],
       "shape": {
        "columns": 20,
        "rows": 481
       }
      },
      "text/html": [
       "<div>\n",
       "<style scoped>\n",
       "    .dataframe tbody tr th:only-of-type {\n",
       "        vertical-align: middle;\n",
       "    }\n",
       "\n",
       "    .dataframe tbody tr th {\n",
       "        vertical-align: top;\n",
       "    }\n",
       "\n",
       "    .dataframe thead th {\n",
       "        text-align: right;\n",
       "    }\n",
       "</style>\n",
       "<table border=\"1\" class=\"dataframe\">\n",
       "  <thead>\n",
       "    <tr style=\"text-align: right;\">\n",
       "      <th></th>\n",
       "      <th>out</th>\n",
       "      <th>Subject</th>\n",
       "      <th>Country</th>\n",
       "      <th>Institution</th>\n",
       "      <th>Version</th>\n",
       "      <th>Run</th>\n",
       "      <th>conversionSuccess</th>\n",
       "      <th>hasMultiple</th>\n",
       "      <th>FileSize</th>\n",
       "      <th>Date</th>\n",
       "      <th>Time</th>\n",
       "      <th>in</th>\n",
       "      <th>missingCount</th>\n",
       "      <th>missingPercent</th>\n",
       "      <th>numberOfTrials</th>\n",
       "      <th>Session</th>\n",
       "      <th>institutionCode</th>\n",
       "      <th>path</th>\n",
       "      <th>ifControlGroup</th>\n",
       "      <th>conversionError</th>\n",
       "    </tr>\n",
       "  </thead>\n",
       "  <tbody>\n",
       "    <tr>\n",
       "      <th>0</th>\n",
       "      <td>01_1_Ctrl_KN_A.csv</td>\n",
       "      <td>1</td>\n",
       "      <td>Control Group</td>\n",
       "      <td>Konstanz</td>\n",
       "      <td>A</td>\n",
       "      <td>1</td>\n",
       "      <td>1</td>\n",
       "      <td>0</td>\n",
       "      <td>6128111</td>\n",
       "      <td>2025-02-06</td>\n",
       "      <td>13h02.13.636</td>\n",
       "      <td>4_2_01_trackerTest2022_2_5_2025-02-06_13h02.13...</td>\n",
       "      <td>155.0</td>\n",
       "      <td>0.010765</td>\n",
       "      <td>20.0</td>\n",
       "      <td>1.0</td>\n",
       "      <td>2.0</td>\n",
       "      <td>0.Adult_control_group\\Dialekt (Konstanz)\\Norma...</td>\n",
       "      <td>True</td>\n",
       "      <td>NaN</td>\n",
       "    </tr>\n",
       "    <tr>\n",
       "      <th>1</th>\n",
       "      <td>07_1_Ctrl_KN_A.csv</td>\n",
       "      <td>7</td>\n",
       "      <td>Control Group</td>\n",
       "      <td>Konstanz</td>\n",
       "      <td>A</td>\n",
       "      <td>1</td>\n",
       "      <td>1</td>\n",
       "      <td>0</td>\n",
       "      <td>6586715</td>\n",
       "      <td>2025-05-06</td>\n",
       "      <td>14h50.21.036</td>\n",
       "      <td>4_2_07_trackerTest2022_2_5_2025-05-06_14h50.21...</td>\n",
       "      <td>55.0</td>\n",
       "      <td>0.003820</td>\n",
       "      <td>20.0</td>\n",
       "      <td>1.0</td>\n",
       "      <td>2.0</td>\n",
       "      <td>0.Adult_control_group\\Dialekt (Konstanz)\\Norma...</td>\n",
       "      <td>True</td>\n",
       "      <td>NaN</td>\n",
       "    </tr>\n",
       "    <tr>\n",
       "      <th>2</th>\n",
       "      <td>11_1_Ctrl_KN_A.csv</td>\n",
       "      <td>11</td>\n",
       "      <td>Control Group</td>\n",
       "      <td>Konstanz</td>\n",
       "      <td>A</td>\n",
       "      <td>1</td>\n",
       "      <td>1</td>\n",
       "      <td>0</td>\n",
       "      <td>6193631</td>\n",
       "      <td>2025-05-07</td>\n",
       "      <td>08h58.18.954</td>\n",
       "      <td>4_2_11_trackerTest2022_2_5_2025-05-07_08h58.18...</td>\n",
       "      <td>210.0</td>\n",
       "      <td>0.014588</td>\n",
       "      <td>20.0</td>\n",
       "      <td>1.0</td>\n",
       "      <td>2.0</td>\n",
       "      <td>0.Adult_control_group\\Dialekt (Konstanz)\\Norma...</td>\n",
       "      <td>True</td>\n",
       "      <td>NaN</td>\n",
       "    </tr>\n",
       "    <tr>\n",
       "      <th>3</th>\n",
       "      <td>15_1_Ctrl_KN_A.csv</td>\n",
       "      <td>15</td>\n",
       "      <td>Control Group</td>\n",
       "      <td>Konstanz</td>\n",
       "      <td>A</td>\n",
       "      <td>1</td>\n",
       "      <td>0</td>\n",
       "      <td>1</td>\n",
       "      <td>679981</td>\n",
       "      <td>2025-05-07</td>\n",
       "      <td>10h36.56.919</td>\n",
       "      <td>4_2_15_trackerTest2022_2_5_2025-05-07_10h36.56...</td>\n",
       "      <td>NaN</td>\n",
       "      <td>NaN</td>\n",
       "      <td>NaN</td>\n",
       "      <td>NaN</td>\n",
       "      <td>2.0</td>\n",
       "      <td>0.Adult_control_group\\Dialekt (Konstanz)\\Norma...</td>\n",
       "      <td>True</td>\n",
       "      <td>Error: Meta file is empty</td>\n",
       "    </tr>\n",
       "    <tr>\n",
       "      <th>4</th>\n",
       "      <td>15_2_Ctrl_KN_A.csv</td>\n",
       "      <td>15</td>\n",
       "      <td>Control Group</td>\n",
       "      <td>Konstanz</td>\n",
       "      <td>A</td>\n",
       "      <td>2</td>\n",
       "      <td>0</td>\n",
       "      <td>1</td>\n",
       "      <td>2717191</td>\n",
       "      <td>2025-05-07</td>\n",
       "      <td>11h08.32.193</td>\n",
       "      <td>4_2_15_trackerTest2022_2_5_2025-05-07_11h08.32...</td>\n",
       "      <td>NaN</td>\n",
       "      <td>NaN</td>\n",
       "      <td>NaN</td>\n",
       "      <td>NaN</td>\n",
       "      <td>2.0</td>\n",
       "      <td>0.Adult_control_group\\Dialekt (Konstanz)\\Norma...</td>\n",
       "      <td>True</td>\n",
       "      <td>Error: Meta file is empty</td>\n",
       "    </tr>\n",
       "    <tr>\n",
       "      <th>...</th>\n",
       "      <td>...</td>\n",
       "      <td>...</td>\n",
       "      <td>...</td>\n",
       "      <td>...</td>\n",
       "      <td>...</td>\n",
       "      <td>...</td>\n",
       "      <td>...</td>\n",
       "      <td>...</td>\n",
       "      <td>...</td>\n",
       "      <td>...</td>\n",
       "      <td>...</td>\n",
       "      <td>...</td>\n",
       "      <td>...</td>\n",
       "      <td>...</td>\n",
       "      <td>...</td>\n",
       "      <td>...</td>\n",
       "      <td>...</td>\n",
       "      <td>...</td>\n",
       "      <td>...</td>\n",
       "      <td>...</td>\n",
       "    </tr>\n",
       "    <tr>\n",
       "      <th>476</th>\n",
       "      <td>032_1_CH_GS_B.csv</td>\n",
       "      <td>32</td>\n",
       "      <td>Schweiz</td>\n",
       "      <td>Grundschule</td>\n",
       "      <td>B</td>\n",
       "      <td>1</td>\n",
       "      <td>1</td>\n",
       "      <td>0</td>\n",
       "      <td>6390167</td>\n",
       "      <td>2025-02-17</td>\n",
       "      <td>10h31.52.055</td>\n",
       "      <td>3_04_032_trackerTest2022_2_5_2025-02-17_10h31....</td>\n",
       "      <td>104.0</td>\n",
       "      <td>0.007223</td>\n",
       "      <td>20.0</td>\n",
       "      <td>1.0</td>\n",
       "      <td>4.0</td>\n",
       "      <td>3.Switzerland\\Primary_school\\B</td>\n",
       "      <td>False</td>\n",
       "      <td>NaN</td>\n",
       "    </tr>\n",
       "    <tr>\n",
       "      <th>477</th>\n",
       "      <td>033_1_CH_GS_B.csv</td>\n",
       "      <td>33</td>\n",
       "      <td>Schweiz</td>\n",
       "      <td>Grundschule</td>\n",
       "      <td>B</td>\n",
       "      <td>1</td>\n",
       "      <td>1</td>\n",
       "      <td>0</td>\n",
       "      <td>4748125</td>\n",
       "      <td>2025-02-17</td>\n",
       "      <td>10h59.37.813</td>\n",
       "      <td>3_04_033_trackerTest2022_2_5_2025-02-17_10h59....</td>\n",
       "      <td>289.0</td>\n",
       "      <td>0.020075</td>\n",
       "      <td>20.0</td>\n",
       "      <td>2.0</td>\n",
       "      <td>4.0</td>\n",
       "      <td>3.Switzerland\\Primary_school\\B</td>\n",
       "      <td>False</td>\n",
       "      <td>NaN</td>\n",
       "    </tr>\n",
       "    <tr>\n",
       "      <th>478</th>\n",
       "      <td>034_1_CH_GS_B.csv</td>\n",
       "      <td>34</td>\n",
       "      <td>Schweiz</td>\n",
       "      <td>Grundschule</td>\n",
       "      <td>B</td>\n",
       "      <td>1</td>\n",
       "      <td>1</td>\n",
       "      <td>0</td>\n",
       "      <td>5866061</td>\n",
       "      <td>2025-02-17</td>\n",
       "      <td>11h07.41.599</td>\n",
       "      <td>3_04_034_trackerTest2022_2_5_2025-02-17_11h07....</td>\n",
       "      <td>82.0</td>\n",
       "      <td>0.005695</td>\n",
       "      <td>20.0</td>\n",
       "      <td>1.0</td>\n",
       "      <td>4.0</td>\n",
       "      <td>3.Switzerland\\Primary_school\\B</td>\n",
       "      <td>False</td>\n",
       "      <td>NaN</td>\n",
       "    </tr>\n",
       "    <tr>\n",
       "      <th>479</th>\n",
       "      <td>035_1_CH_GS_B.csv</td>\n",
       "      <td>35</td>\n",
       "      <td>Schweiz</td>\n",
       "      <td>Grundschule</td>\n",
       "      <td>B</td>\n",
       "      <td>1</td>\n",
       "      <td>0</td>\n",
       "      <td>1</td>\n",
       "      <td>1603453</td>\n",
       "      <td>2025-02-17</td>\n",
       "      <td>11h30.43.594</td>\n",
       "      <td>3_04_035_trackerTest2022_2_5_2025-02-17_11h30....</td>\n",
       "      <td>NaN</td>\n",
       "      <td>NaN</td>\n",
       "      <td>NaN</td>\n",
       "      <td>NaN</td>\n",
       "      <td>4.0</td>\n",
       "      <td>3.Switzerland\\Primary_school\\B</td>\n",
       "      <td>False</td>\n",
       "      <td>Error: Meta file is empty</td>\n",
       "    </tr>\n",
       "    <tr>\n",
       "      <th>480</th>\n",
       "      <td>035_2_CH_GS_B.csv</td>\n",
       "      <td>35</td>\n",
       "      <td>Schweiz</td>\n",
       "      <td>Grundschule</td>\n",
       "      <td>B</td>\n",
       "      <td>2</td>\n",
       "      <td>1</td>\n",
       "      <td>1</td>\n",
       "      <td>4682611</td>\n",
       "      <td>2025-02-17</td>\n",
       "      <td>11h34.07.640</td>\n",
       "      <td>3_04_035_trackerTest2022_2_5_2025-02-17_11h34....</td>\n",
       "      <td>1328.0</td>\n",
       "      <td>0.092229</td>\n",
       "      <td>20.0</td>\n",
       "      <td>2.0</td>\n",
       "      <td>4.0</td>\n",
       "      <td>3.Switzerland\\Primary_school\\B</td>\n",
       "      <td>False</td>\n",
       "      <td>NaN</td>\n",
       "    </tr>\n",
       "  </tbody>\n",
       "</table>\n",
       "<p>481 rows × 20 columns</p>\n",
       "</div>"
      ],
      "text/plain": [
       "                    out  Subject        Country  Institution Version  Run  \\\n",
       "0    01_1_Ctrl_KN_A.csv        1  Control Group     Konstanz       A    1   \n",
       "1    07_1_Ctrl_KN_A.csv        7  Control Group     Konstanz       A    1   \n",
       "2    11_1_Ctrl_KN_A.csv       11  Control Group     Konstanz       A    1   \n",
       "3    15_1_Ctrl_KN_A.csv       15  Control Group     Konstanz       A    1   \n",
       "4    15_2_Ctrl_KN_A.csv       15  Control Group     Konstanz       A    2   \n",
       "..                  ...      ...            ...          ...     ...  ...   \n",
       "476   032_1_CH_GS_B.csv       32        Schweiz  Grundschule       B    1   \n",
       "477   033_1_CH_GS_B.csv       33        Schweiz  Grundschule       B    1   \n",
       "478   034_1_CH_GS_B.csv       34        Schweiz  Grundschule       B    1   \n",
       "479   035_1_CH_GS_B.csv       35        Schweiz  Grundschule       B    1   \n",
       "480   035_2_CH_GS_B.csv       35        Schweiz  Grundschule       B    2   \n",
       "\n",
       "     conversionSuccess  hasMultiple  FileSize        Date          Time  \\\n",
       "0                    1            0   6128111  2025-02-06  13h02.13.636   \n",
       "1                    1            0   6586715  2025-05-06  14h50.21.036   \n",
       "2                    1            0   6193631  2025-05-07  08h58.18.954   \n",
       "3                    0            1    679981  2025-05-07  10h36.56.919   \n",
       "4                    0            1   2717191  2025-05-07  11h08.32.193   \n",
       "..                 ...          ...       ...         ...           ...   \n",
       "476                  1            0   6390167  2025-02-17  10h31.52.055   \n",
       "477                  1            0   4748125  2025-02-17  10h59.37.813   \n",
       "478                  1            0   5866061  2025-02-17  11h07.41.599   \n",
       "479                  0            1   1603453  2025-02-17  11h30.43.594   \n",
       "480                  1            1   4682611  2025-02-17  11h34.07.640   \n",
       "\n",
       "                                                    in  missingCount  \\\n",
       "0    4_2_01_trackerTest2022_2_5_2025-02-06_13h02.13...         155.0   \n",
       "1    4_2_07_trackerTest2022_2_5_2025-05-06_14h50.21...          55.0   \n",
       "2    4_2_11_trackerTest2022_2_5_2025-05-07_08h58.18...         210.0   \n",
       "3    4_2_15_trackerTest2022_2_5_2025-05-07_10h36.56...           NaN   \n",
       "4    4_2_15_trackerTest2022_2_5_2025-05-07_11h08.32...           NaN   \n",
       "..                                                 ...           ...   \n",
       "476  3_04_032_trackerTest2022_2_5_2025-02-17_10h31....         104.0   \n",
       "477  3_04_033_trackerTest2022_2_5_2025-02-17_10h59....         289.0   \n",
       "478  3_04_034_trackerTest2022_2_5_2025-02-17_11h07....          82.0   \n",
       "479  3_04_035_trackerTest2022_2_5_2025-02-17_11h30....           NaN   \n",
       "480  3_04_035_trackerTest2022_2_5_2025-02-17_11h34....        1328.0   \n",
       "\n",
       "     missingPercent  numberOfTrials  Session  institutionCode  \\\n",
       "0          0.010765            20.0      1.0              2.0   \n",
       "1          0.003820            20.0      1.0              2.0   \n",
       "2          0.014588            20.0      1.0              2.0   \n",
       "3               NaN             NaN      NaN              2.0   \n",
       "4               NaN             NaN      NaN              2.0   \n",
       "..              ...             ...      ...              ...   \n",
       "476        0.007223            20.0      1.0              4.0   \n",
       "477        0.020075            20.0      2.0              4.0   \n",
       "478        0.005695            20.0      1.0              4.0   \n",
       "479             NaN             NaN      NaN              4.0   \n",
       "480        0.092229            20.0      2.0              4.0   \n",
       "\n",
       "                                                  path  ifControlGroup  \\\n",
       "0    0.Adult_control_group\\Dialekt (Konstanz)\\Norma...            True   \n",
       "1    0.Adult_control_group\\Dialekt (Konstanz)\\Norma...            True   \n",
       "2    0.Adult_control_group\\Dialekt (Konstanz)\\Norma...            True   \n",
       "3    0.Adult_control_group\\Dialekt (Konstanz)\\Norma...            True   \n",
       "4    0.Adult_control_group\\Dialekt (Konstanz)\\Norma...            True   \n",
       "..                                                 ...             ...   \n",
       "476                     3.Switzerland\\Primary_school\\B           False   \n",
       "477                     3.Switzerland\\Primary_school\\B           False   \n",
       "478                     3.Switzerland\\Primary_school\\B           False   \n",
       "479                     3.Switzerland\\Primary_school\\B           False   \n",
       "480                     3.Switzerland\\Primary_school\\B           False   \n",
       "\n",
       "               conversionError  \n",
       "0                          NaN  \n",
       "1                          NaN  \n",
       "2                          NaN  \n",
       "3    Error: Meta file is empty  \n",
       "4    Error: Meta file is empty  \n",
       "..                         ...  \n",
       "476                        NaN  \n",
       "477                        NaN  \n",
       "478                        NaN  \n",
       "479  Error: Meta file is empty  \n",
       "480                        NaN  \n",
       "\n",
       "[481 rows x 20 columns]"
      ]
     },
     "execution_count": 5,
     "metadata": {},
     "output_type": "execute_result"
    }
   ],
   "source": [
    "# Open processed data from the output_dir\n",
    "meta_table = pd.read_csv(os.path.join(output_dir, '.meta_table.csv'))\n",
    "meta_table                      "
   ]
  },
  {
   "cell_type": "code",
   "execution_count": 6,
   "id": "ee4a5fd3",
   "metadata": {},
   "outputs": [
    {
     "data": {
      "application/vnd.microsoft.datawrangler.viewer.v0+json": {
       "columns": [
        {
         "name": "index",
         "rawType": "int64",
         "type": "integer"
        },
        {
         "name": "time",
         "rawType": "float64",
         "type": "float"
        },
        {
         "name": "gaze_x",
         "rawType": "float64",
         "type": "float"
        },
        {
         "name": "gaze_y",
         "rawType": "float64",
         "type": "float"
        },
        {
         "name": "pupil_size",
         "rawType": "float64",
         "type": "float"
        },
        {
         "name": "region",
         "rawType": "object",
         "type": "unknown"
        },
        {
         "name": "start_time",
         "rawType": "float64",
         "type": "float"
        },
        {
         "name": "trial",
         "rawType": "int64",
         "type": "integer"
        },
        {
         "name": "end_time",
         "rawType": "float64",
         "type": "float"
        },
        {
         "name": "posPerm",
         "rawType": "object",
         "type": "string"
        },
        {
         "name": "AOI",
         "rawType": "object",
         "type": "unknown"
        },
        {
         "name": "sound",
         "rawType": "object",
         "type": "string"
        },
        {
         "name": "condition",
         "rawType": "object",
         "type": "string"
        },
        {
         "name": "image",
         "rawType": "object",
         "type": "unknown"
        },
        {
         "name": "TimeFromTrialOnset",
         "rawType": "float64",
         "type": "float"
        },
        {
         "name": "trackloss",
         "rawType": "bool",
         "type": "boolean"
        },
        {
         "name": "fixation",
         "rawType": "Int64",
         "type": "integer"
        },
        {
         "name": "saccades",
         "rawType": "Int64",
         "type": "integer"
        },
        {
         "name": "timeFromOnsetMs",
         "rawType": "float64",
         "type": "float"
        },
        {
         "name": "in",
         "rawType": "object",
         "type": "string"
        },
        {
         "name": "Subject",
         "rawType": "int64",
         "type": "integer"
        },
        {
         "name": "Country",
         "rawType": "object",
         "type": "string"
        },
        {
         "name": "Institution",
         "rawType": "object",
         "type": "string"
        },
        {
         "name": "Version",
         "rawType": "object",
         "type": "string"
        },
        {
         "name": "Session",
         "rawType": "float64",
         "type": "float"
        },
        {
         "name": "missingPercent",
         "rawType": "float64",
         "type": "float"
        },
        {
         "name": "Run",
         "rawType": "int64",
         "type": "integer"
        },
        {
         "name": "numberOfTrials",
         "rawType": "float64",
         "type": "float"
        },
        {
         "name": "out",
         "rawType": "object",
         "type": "string"
        }
       ],
       "ref": "a652e23b-5632-42cb-8234-8fa71015ecaa",
       "rows": [
        [
         "0",
         "255.99400500000047",
         "0.055137478",
         "0.087704524",
         "2.9766616821289062",
         null,
         "255.98972250000045",
         "1",
         "261.98140930000045",
         "[3 2 1 0]",
         null,
         "Wurscht_mono_eq",
         "alemannic_austria",
         null,
         "0.0042825000000448",
         "False",
         "0",
         null,
         "-3.0",
         "4_2_01_trackerTest2022_2_5_2025-02-06_13h02.13.636.hdf5",
         "1",
         "Control Group",
         "Konstanz",
         "A",
         "1.0",
         "0.0107653840811223",
         "1",
         "20.0",
         "01_1_Ctrl_KN_A.csv"
        ],
        [
         "1",
         "256.0023541999999",
         "0.053816956",
         "0.09030031",
         "2.9808120727539062",
         null,
         "255.98972250000045",
         "1",
         "261.98140930000045",
         "[3 2 1 0]",
         null,
         "Wurscht_mono_eq",
         "alemannic_austria",
         null,
         "0.0126316999994742",
         "False",
         "0",
         null,
         "-2.9916508000005706",
         "4_2_01_trackerTest2022_2_5_2025-02-06_13h02.13.636.hdf5",
         "1",
         "Control Group",
         "Konstanz",
         "A",
         "1.0",
         "0.0107653840811223",
         "1",
         "20.0",
         "01_1_Ctrl_KN_A.csv"
        ],
        [
         "2",
         "256.01069480000115",
         "0.056027625",
         "0.08953409",
         "2.9769439697265625",
         null,
         "255.98972250000045",
         "1",
         "261.98140930000045",
         "[3 2 1 0]",
         null,
         "Wurscht_mono_eq",
         "alemannic_austria",
         null,
         "0.0209723000007215",
         "False",
         "0",
         null,
         "-2.9833101999993232",
         "4_2_01_trackerTest2022_2_5_2025-02-06_13h02.13.636.hdf5",
         "1",
         "Control Group",
         "Konstanz",
         "A",
         "1.0",
         "0.0107653840811223",
         "1",
         "20.0",
         "01_1_Ctrl_KN_A.csv"
        ],
        [
         "3",
         "256.01899290000074",
         "0.054752246",
         "0.089698195",
         "2.9807586669921875",
         null,
         "255.98972250000045",
         "1",
         "261.98140930000045",
         "[3 2 1 0]",
         null,
         "Wurscht_mono_eq",
         "alemannic_austria",
         null,
         "0.0292704000003141",
         "False",
         "0",
         null,
         "-2.9750120999997307",
         "4_2_01_trackerTest2022_2_5_2025-02-06_13h02.13.636.hdf5",
         "1",
         "Control Group",
         "Konstanz",
         "A",
         "1.0",
         "0.0107653840811223",
         "1",
         "20.0",
         "01_1_Ctrl_KN_A.csv"
        ],
        [
         "4",
         "256.02735419999954",
         "0.055632383",
         "0.087282956",
         "2.9804840087890625",
         null,
         "255.98972250000045",
         "1",
         "261.98140930000045",
         "[3 2 1 0]",
         null,
         "Wurscht_mono_eq",
         "alemannic_austria",
         null,
         "0.0376316999991104",
         "False",
         "0",
         null,
         "-2.9666508000009344",
         "4_2_01_trackerTest2022_2_5_2025-02-06_13h02.13.636.hdf5",
         "1",
         "Control Group",
         "Konstanz",
         "A",
         "1.0",
         "0.0107653840811223",
         "1",
         "20.0",
         "01_1_Ctrl_KN_A.csv"
        ],
        [
         "5",
         "256.0356589999992",
         "0.056249827",
         "0.08796893",
         "2.979461669921875",
         null,
         "255.98972250000045",
         "1",
         "261.98140930000045",
         "[3 2 1 0]",
         null,
         "Wurscht_mono_eq",
         "alemannic_austria",
         null,
         "0.0459364999987883",
         "False",
         "0",
         null,
         "-2.9583460000012565",
         "4_2_01_trackerTest2022_2_5_2025-02-06_13h02.13.636.hdf5",
         "1",
         "Control Group",
         "Konstanz",
         "A",
         "1.0",
         "0.0107653840811223",
         "1",
         "20.0",
         "01_1_Ctrl_KN_A.csv"
        ],
        [
         "6",
         "256.0439398999988",
         "0.055876996",
         "0.08777933",
         "2.983436584472656",
         null,
         "255.98972250000045",
         "1",
         "261.98140930000045",
         "[3 2 1 0]",
         null,
         "Wurscht_mono_eq",
         "alemannic_austria",
         null,
         "0.0542173999983788",
         "False",
         "0",
         null,
         "-2.950065100001666",
         "4_2_01_trackerTest2022_2_5_2025-02-06_13h02.13.636.hdf5",
         "1",
         "Control Group",
         "Konstanz",
         "A",
         "1.0",
         "0.0107653840811223",
         "1",
         "20.0",
         "01_1_Ctrl_KN_A.csv"
        ],
        [
         "7",
         "256.0522852999984",
         "0.054701485",
         "0.08786918",
         "2.975860595703125",
         null,
         "255.98972250000045",
         "1",
         "261.98140930000045",
         "[3 2 1 0]",
         null,
         "Wurscht_mono_eq",
         "alemannic_austria",
         null,
         "0.0625627999979769",
         "False",
         "0",
         null,
         "-2.941719700002068",
         "4_2_01_trackerTest2022_2_5_2025-02-06_13h02.13.636.hdf5",
         "1",
         "Control Group",
         "Konstanz",
         "A",
         "1.0",
         "0.0107653840811223",
         "1",
         "20.0",
         "01_1_Ctrl_KN_A.csv"
        ],
        [
         "8",
         "256.06065769999987",
         "0.054222003",
         "0.08897108",
         "2.98077392578125",
         null,
         "255.98972250000045",
         "1",
         "261.98140930000045",
         "[3 2 1 0]",
         null,
         "Wurscht_mono_eq",
         "alemannic_austria",
         null,
         "0.0709351999994396",
         "False",
         "0",
         null,
         "-2.933347300000605",
         "4_2_01_trackerTest2022_2_5_2025-02-06_13h02.13.636.hdf5",
         "1",
         "Control Group",
         "Konstanz",
         "A",
         "1.0",
         "0.0107653840811223",
         "1",
         "20.0",
         "01_1_Ctrl_KN_A.csv"
        ],
        [
         "9",
         "256.0688210999997",
         "0.05517631",
         "0.08878288",
         "2.980751037597656",
         null,
         "255.98972250000045",
         "1",
         "261.98140930000045",
         "[3 2 1 0]",
         null,
         "Wurscht_mono_eq",
         "alemannic_austria",
         null,
         "0.0790985999992699",
         "False",
         "0",
         null,
         "-2.925183900000775",
         "4_2_01_trackerTest2022_2_5_2025-02-06_13h02.13.636.hdf5",
         "1",
         "Control Group",
         "Konstanz",
         "A",
         "1.0",
         "0.0107653840811223",
         "1",
         "20.0",
         "01_1_Ctrl_KN_A.csv"
        ],
        [
         "10",
         "256.077325799999",
         "0.05554141",
         "0.087534726",
         "2.9821090698242188",
         null,
         "255.98972250000045",
         "1",
         "261.98140930000045",
         "[3 2 1 0]",
         null,
         "Wurscht_mono_eq",
         "alemannic_austria",
         null,
         "0.0876032999985909",
         "False",
         "0",
         null,
         "-2.916679200001454",
         "4_2_01_trackerTest2022_2_5_2025-02-06_13h02.13.636.hdf5",
         "1",
         "Control Group",
         "Konstanz",
         "A",
         "1.0",
         "0.0107653840811223",
         "1",
         "20.0",
         "01_1_Ctrl_KN_A.csv"
        ],
        [
         "11",
         "256.08562749999874",
         "0.057360224",
         "0.091095164",
         "2.981117248535156",
         null,
         "255.98972250000045",
         "1",
         "261.98140930000045",
         "[3 2 1 0]",
         null,
         "Wurscht_mono_eq",
         "alemannic_austria",
         null,
         "0.0959049999983108",
         "False",
         "0",
         null,
         "-2.908377500001734",
         "4_2_01_trackerTest2022_2_5_2025-02-06_13h02.13.636.hdf5",
         "1",
         "Control Group",
         "Konstanz",
         "A",
         "1.0",
         "0.0107653840811223",
         "1",
         "20.0",
         "01_1_Ctrl_KN_A.csv"
        ],
        [
         "12",
         "256.0939453999981",
         "0.05633799",
         "0.08810222",
         "2.9869308471679688",
         null,
         "255.98972250000045",
         "1",
         "261.98140930000045",
         "[3 2 1 0]",
         null,
         "Wurscht_mono_eq",
         "alemannic_austria",
         null,
         "0.1042228999976941",
         "False",
         "0",
         null,
         "-2.9000596000023506",
         "4_2_01_trackerTest2022_2_5_2025-02-06_13h02.13.636.hdf5",
         "1",
         "Control Group",
         "Konstanz",
         "A",
         "1.0",
         "0.0107653840811223",
         "1",
         "20.0",
         "01_1_Ctrl_KN_A.csv"
        ],
        [
         "13",
         "256.1022893999998",
         "0.05529271",
         "0.08871831",
         "2.984161376953125",
         null,
         "255.98972250000045",
         "1",
         "261.98140930000045",
         "[3 2 1 0]",
         null,
         "Wurscht_mono_eq",
         "alemannic_austria",
         null,
         "0.1125668999993649",
         "False",
         "0",
         null,
         "-2.89171560000068",
         "4_2_01_trackerTest2022_2_5_2025-02-06_13h02.13.636.hdf5",
         "1",
         "Control Group",
         "Konstanz",
         "A",
         "1.0",
         "0.0107653840811223",
         "1",
         "20.0",
         "01_1_Ctrl_KN_A.csv"
        ],
        [
         "14",
         "256.11062409999795",
         "0.056443743",
         "0.09085235",
         "2.979698181152344",
         null,
         "255.98972250000045",
         "1",
         "261.98140930000045",
         "[3 2 1 0]",
         null,
         "Wurscht_mono_eq",
         "alemannic_austria",
         null,
         "0.1209015999975235",
         "False",
         "0",
         null,
         "-2.8833809000025212",
         "4_2_01_trackerTest2022_2_5_2025-02-06_13h02.13.636.hdf5",
         "1",
         "Control Group",
         "Konstanz",
         "A",
         "1.0",
         "0.0107653840811223",
         "1",
         "20.0",
         "01_1_Ctrl_KN_A.csv"
        ],
        [
         "15",
         "256.11898909999945",
         "0.05330626",
         "0.09104082",
         "2.981201171875",
         null,
         "255.98972250000045",
         "1",
         "261.98140930000045",
         "[3 2 1 0]",
         null,
         "Wurscht_mono_eq",
         "alemannic_austria",
         null,
         "0.1292665999990276",
         "False",
         "0",
         null,
         "-2.875015900001017",
         "4_2_01_trackerTest2022_2_5_2025-02-06_13h02.13.636.hdf5",
         "1",
         "Control Group",
         "Konstanz",
         "A",
         "1.0",
         "0.0107653840811223",
         "1",
         "20.0",
         "01_1_Ctrl_KN_A.csv"
        ],
        [
         "16",
         "256.1272476000013",
         "0.053920165",
         "0.08744794",
         "2.9805908203125",
         null,
         "255.98972250000045",
         "1",
         "261.98140930000045",
         "[3 2 1 0]",
         null,
         "Wurscht_mono_eq",
         "alemannic_austria",
         null,
         "0.1375251000008575",
         "False",
         "0",
         null,
         "-2.8667573999991873",
         "4_2_01_trackerTest2022_2_5_2025-02-06_13h02.13.636.hdf5",
         "1",
         "Control Group",
         "Konstanz",
         "A",
         "1.0",
         "0.0107653840811223",
         "1",
         "20.0",
         "01_1_Ctrl_KN_A.csv"
        ],
        [
         "17",
         "256.1356137999992",
         "0.055788253",
         "0.08747226",
         "2.978134155273437",
         null,
         "255.98972250000045",
         "1",
         "261.98140930000045",
         "[3 2 1 0]",
         null,
         "Wurscht_mono_eq",
         "alemannic_austria",
         null,
         "0.145891299998766",
         "False",
         "0",
         null,
         "-2.8583912000012788",
         "4_2_01_trackerTest2022_2_5_2025-02-06_13h02.13.636.hdf5",
         "1",
         "Control Group",
         "Konstanz",
         "A",
         "1.0",
         "0.0107653840811223",
         "1",
         "20.0",
         "01_1_Ctrl_KN_A.csv"
        ],
        [
         "18",
         "256.14394600000014",
         "0.055590205",
         "0.090280786",
         "2.978065490722656",
         null,
         "255.98972250000045",
         "1",
         "261.98140930000045",
         "[3 2 1 0]",
         null,
         "Wurscht_mono_eq",
         "alemannic_austria",
         null,
         "0.1542234999997163",
         "False",
         "0",
         null,
         "-2.8500590000003285",
         "4_2_01_trackerTest2022_2_5_2025-02-06_13h02.13.636.hdf5",
         "1",
         "Control Group",
         "Konstanz",
         "A",
         "1.0",
         "0.0107653840811223",
         "1",
         "20.0",
         "01_1_Ctrl_KN_A.csv"
        ],
        [
         "19",
         "256.1522561999991",
         "0.056800947",
         "0.089797854",
         "2.9723892211914062",
         null,
         "255.98972250000045",
         "1",
         "261.98140930000045",
         "[3 2 1 0]",
         null,
         "Wurscht_mono_eq",
         "alemannic_austria",
         null,
         "0.1625336999986757",
         "False",
         "0",
         null,
         "-2.841748800001369",
         "4_2_01_trackerTest2022_2_5_2025-02-06_13h02.13.636.hdf5",
         "1",
         "Control Group",
         "Konstanz",
         "A",
         "1.0",
         "0.0107653840811223",
         "1",
         "20.0",
         "01_1_Ctrl_KN_A.csv"
        ],
        [
         "20",
         "256.1606037999991",
         "0.055753917",
         "0.0886136",
         "2.9757156372070312",
         null,
         "255.98972250000045",
         "1",
         "261.98140930000045",
         "[3 2 1 0]",
         null,
         "Wurscht_mono_eq",
         "alemannic_austria",
         null,
         "0.1708812999986548",
         "False",
         "0",
         null,
         "-2.83340120000139",
         "4_2_01_trackerTest2022_2_5_2025-02-06_13h02.13.636.hdf5",
         "1",
         "Control Group",
         "Konstanz",
         "A",
         "1.0",
         "0.0107653840811223",
         "1",
         "20.0",
         "01_1_Ctrl_KN_A.csv"
        ],
        [
         "21",
         "256.1689760999998",
         "0.05540906",
         "0.09154233",
         "2.9676666259765625",
         null,
         "255.98972250000045",
         "1",
         "261.98140930000045",
         "[3 2 1 0]",
         null,
         "Wurscht_mono_eq",
         "alemannic_austria",
         null,
         "0.179253599999356",
         "False",
         "0",
         null,
         "-2.8250289000006887",
         "4_2_01_trackerTest2022_2_5_2025-02-06_13h02.13.636.hdf5",
         "1",
         "Control Group",
         "Konstanz",
         "A",
         "1.0",
         "0.0107653840811223",
         "1",
         "20.0",
         "01_1_Ctrl_KN_A.csv"
        ],
        [
         "22",
         "256.17718849999983",
         "0.05430407",
         "0.089053035",
         "2.971397399902344",
         null,
         "255.98972250000045",
         "1",
         "261.98140930000045",
         "[3 2 1 0]",
         null,
         "Wurscht_mono_eq",
         "alemannic_austria",
         null,
         "0.1874659999994037",
         "False",
         "0",
         null,
         "-2.816816500000641",
         "4_2_01_trackerTest2022_2_5_2025-02-06_13h02.13.636.hdf5",
         "1",
         "Control Group",
         "Konstanz",
         "A",
         "1.0",
         "0.0107653840811223",
         "1",
         "20.0",
         "01_1_Ctrl_KN_A.csv"
        ],
        [
         "23",
         "256.18567989999974",
         "0.05471717",
         "0.089072734",
         "2.9691925048828125",
         null,
         "255.98972250000045",
         "1",
         "261.98140930000045",
         "[3 2 1 0]",
         null,
         "Wurscht_mono_eq",
         "alemannic_austria",
         null,
         "0.1959573999993153",
         "False",
         "0",
         null,
         "-2.8083251000007294",
         "4_2_01_trackerTest2022_2_5_2025-02-06_13h02.13.636.hdf5",
         "1",
         "Control Group",
         "Konstanz",
         "A",
         "1.0",
         "0.0107653840811223",
         "1",
         "20.0",
         "01_1_Ctrl_KN_A.csv"
        ],
        [
         "24",
         "256.19402380000065",
         "0.055367418",
         "0.09110695",
         "2.9671859741210938",
         null,
         "255.98972250000045",
         "1",
         "261.98140930000045",
         "[3 2 1 0]",
         null,
         "Wurscht_mono_eq",
         "alemannic_austria",
         null,
         "0.2043013000002247",
         "False",
         "0",
         null,
         "-2.79998119999982",
         "4_2_01_trackerTest2022_2_5_2025-02-06_13h02.13.636.hdf5",
         "1",
         "Control Group",
         "Konstanz",
         "A",
         "1.0",
         "0.0107653840811223",
         "1",
         "20.0",
         "01_1_Ctrl_KN_A.csv"
        ],
        [
         "25",
         "256.20235499999944",
         "0.053590562",
         "0.08817631",
         "2.9676055908203125",
         null,
         "255.98972250000045",
         "1",
         "261.98140930000045",
         "[3 2 1 0]",
         null,
         "Wurscht_mono_eq",
         "alemannic_austria",
         null,
         "0.2126324999990174",
         "False",
         "0",
         null,
         "-2.7916500000010274",
         "4_2_01_trackerTest2022_2_5_2025-02-06_13h02.13.636.hdf5",
         "1",
         "Control Group",
         "Konstanz",
         "A",
         "1.0",
         "0.0107653840811223",
         "1",
         "20.0",
         "01_1_Ctrl_KN_A.csv"
        ],
        [
         "26",
         "256.21067419999963",
         "0.056698374",
         "0.09057194",
         "2.9643325805664062",
         null,
         "255.98972250000045",
         "1",
         "261.98140930000045",
         "[3 2 1 0]",
         null,
         "Wurscht_mono_eq",
         "alemannic_austria",
         null,
         "0.2209516999992047",
         "False",
         "0",
         null,
         "-2.78333080000084",
         "4_2_01_trackerTest2022_2_5_2025-02-06_13h02.13.636.hdf5",
         "1",
         "Control Group",
         "Konstanz",
         "A",
         "1.0",
         "0.0107653840811223",
         "1",
         "20.0",
         "01_1_Ctrl_KN_A.csv"
        ],
        [
         "27",
         "256.2189314999978",
         "0.056204163",
         "0.09009522",
         "2.9620819091796875",
         null,
         "255.98972250000045",
         "1",
         "261.98140930000045",
         "[3 2 1 0]",
         null,
         "Wurscht_mono_eq",
         "alemannic_austria",
         null,
         "0.2292089999973541",
         "False",
         "0",
         null,
         "-2.7750735000026907",
         "4_2_01_trackerTest2022_2_5_2025-02-06_13h02.13.636.hdf5",
         "1",
         "Control Group",
         "Konstanz",
         "A",
         "1.0",
         "0.0107653840811223",
         "1",
         "20.0",
         "01_1_Ctrl_KN_A.csv"
        ],
        [
         "28",
         "256.22732590000123",
         "0.056857854",
         "0.08963622",
         "2.961456298828125",
         null,
         "255.98972250000045",
         "1",
         "261.98140930000045",
         "[3 2 1 0]",
         null,
         "Wurscht_mono_eq",
         "alemannic_austria",
         null,
         "0.2376034000008076",
         "False",
         "0",
         null,
         "-2.7666790999992372",
         "4_2_01_trackerTest2022_2_5_2025-02-06_13h02.13.636.hdf5",
         "1",
         "Control Group",
         "Konstanz",
         "A",
         "1.0",
         "0.0107653840811223",
         "1",
         "20.0",
         "01_1_Ctrl_KN_A.csv"
        ],
        [
         "29",
         "256.2356882999975",
         "0.05744028",
         "0.08967456",
         "2.959419250488281",
         null,
         "255.98972250000045",
         "1",
         "261.98140930000045",
         "[3 2 1 0]",
         null,
         "Wurscht_mono_eq",
         "alemannic_austria",
         null,
         "0.2459657999970659",
         "False",
         "0",
         null,
         "-2.758316700002979",
         "4_2_01_trackerTest2022_2_5_2025-02-06_13h02.13.636.hdf5",
         "1",
         "Control Group",
         "Konstanz",
         "A",
         "1.0",
         "0.0107653840811223",
         "1",
         "20.0",
         "01_1_Ctrl_KN_A.csv"
        ],
        [
         "30",
         "256.24371260000044",
         "0.05558035",
         "0.08724882",
         "2.9600982666015625",
         null,
         "255.98972250000045",
         "1",
         "261.98140930000045",
         "[3 2 1 0]",
         null,
         "Wurscht_mono_eq",
         "alemannic_austria",
         null,
         "0.25399010000001",
         "False",
         "0",
         null,
         "-2.750292400000035",
         "4_2_01_trackerTest2022_2_5_2025-02-06_13h02.13.636.hdf5",
         "1",
         "Control Group",
         "Konstanz",
         "A",
         "1.0",
         "0.0107653840811223",
         "1",
         "20.0",
         "01_1_Ctrl_KN_A.csv"
        ],
        [
         "31",
         "256.2523543999996",
         "0.070667535",
         "0.12167822",
         "2.9698486328125",
         null,
         "255.98972250000045",
         "1",
         "261.98140930000045",
         "[3 2 1 0]",
         null,
         "Wurscht_mono_eq",
         "alemannic_austria",
         null,
         "0.2626318999991781",
         "False",
         "0",
         null,
         "-2.7416506000008667",
         "4_2_01_trackerTest2022_2_5_2025-02-06_13h02.13.636.hdf5",
         "1",
         "Control Group",
         "Konstanz",
         "A",
         "1.0",
         "0.0107653840811223",
         "1",
         "20.0",
         "01_1_Ctrl_KN_A.csv"
        ],
        [
         "32",
         "256.26053879999927",
         "0.105976425",
         "0.16092587",
         "2.9732208251953125",
         null,
         "255.98972250000045",
         "1",
         "261.98140930000045",
         "[3 2 1 0]",
         null,
         "Wurscht_mono_eq",
         "alemannic_austria",
         null,
         "0.2708162999988417",
         "False",
         null,
         null,
         "-2.733466200001203",
         "4_2_01_trackerTest2022_2_5_2025-02-06_13h02.13.636.hdf5",
         "1",
         "Control Group",
         "Konstanz",
         "A",
         "1.0",
         "0.0107653840811223",
         "1",
         "20.0",
         "01_1_Ctrl_KN_A.csv"
        ],
        [
         "33",
         "256.26889649999976",
         "0.1382638",
         "0.1787954",
         "2.96771240234375",
         null,
         "255.98972250000045",
         "1",
         "261.98140930000045",
         "[3 2 1 0]",
         null,
         "Wurscht_mono_eq",
         "alemannic_austria",
         null,
         "0.2791739999993297",
         "False",
         null,
         "0",
         "-2.725108500000715",
         "4_2_01_trackerTest2022_2_5_2025-02-06_13h02.13.636.hdf5",
         "1",
         "Control Group",
         "Konstanz",
         "A",
         "1.0",
         "0.0107653840811223",
         "1",
         "20.0",
         "01_1_Ctrl_KN_A.csv"
        ],
        [
         "34",
         "256.2773195999998",
         "0.17446402",
         "0.19909981",
         "2.9760513305664062",
         null,
         "255.98972250000045",
         "1",
         "261.98140930000045",
         "[3 2 1 0]",
         null,
         "Wurscht_mono_eq",
         "alemannic_austria",
         null,
         "0.2875970999994024",
         "False",
         null,
         "0",
         "-2.7166854000006424",
         "4_2_01_trackerTest2022_2_5_2025-02-06_13h02.13.636.hdf5",
         "1",
         "Control Group",
         "Konstanz",
         "A",
         "1.0",
         "0.0107653840811223",
         "1",
         "20.0",
         "01_1_Ctrl_KN_A.csv"
        ],
        [
         "35",
         "256.28568460000133",
         "0.2013667",
         "0.21671122",
         "2.9843902587890625",
         null,
         "255.98972250000045",
         "1",
         "261.98140930000045",
         "[3 2 1 0]",
         null,
         "Wurscht_mono_eq",
         "alemannic_austria",
         null,
         "0.2959621000009065",
         "False",
         "1",
         null,
         "-2.7083203999991383",
         "4_2_01_trackerTest2022_2_5_2025-02-06_13h02.13.636.hdf5",
         "1",
         "Control Group",
         "Konstanz",
         "A",
         "1.0",
         "0.0107653840811223",
         "1",
         "20.0",
         "01_1_Ctrl_KN_A.csv"
        ],
        [
         "36",
         "256.2940153",
         "0.20469877",
         "0.2198809",
         "2.98492431640625",
         null,
         "255.98972250000045",
         "1",
         "261.98140930000045",
         "[3 2 1 0]",
         null,
         "Wurscht_mono_eq",
         "alemannic_austria",
         null,
         "0.3042927999995299",
         "False",
         "1",
         null,
         "-2.699989700000458",
         "4_2_01_trackerTest2022_2_5_2025-02-06_13h02.13.636.hdf5",
         "1",
         "Control Group",
         "Konstanz",
         "A",
         "1.0",
         "0.0107653840811223",
         "1",
         "20.0",
         "01_1_Ctrl_KN_A.csv"
        ],
        [
         "37",
         "256.3023125999989",
         "0.20281166",
         "0.21813947",
         "2.991302490234375",
         null,
         "255.98972250000045",
         "1",
         "261.98140930000045",
         "[3 2 1 0]",
         null,
         "Wurscht_mono_eq",
         "alemannic_austria",
         null,
         "0.3125900999984878",
         "False",
         "1",
         null,
         "-2.691692400001557",
         "4_2_01_trackerTest2022_2_5_2025-02-06_13h02.13.636.hdf5",
         "1",
         "Control Group",
         "Konstanz",
         "A",
         "1.0",
         "0.0107653840811223",
         "1",
         "20.0",
         "01_1_Ctrl_KN_A.csv"
        ],
        [
         "38",
         "256.31065259999923",
         "0.2017363",
         "0.22205345",
         "2.98736572265625",
         null,
         "255.98972250000045",
         "1",
         "261.98140930000045",
         "[3 2 1 0]",
         null,
         "Wurscht_mono_eq",
         "alemannic_austria",
         null,
         "0.3209300999988045",
         "False",
         "1",
         null,
         "-2.6833524000012403",
         "4_2_01_trackerTest2022_2_5_2025-02-06_13h02.13.636.hdf5",
         "1",
         "Control Group",
         "Konstanz",
         "A",
         "1.0",
         "0.0107653840811223",
         "1",
         "20.0",
         "01_1_Ctrl_KN_A.csv"
        ],
        [
         "39",
         "256.3189542",
         "0.20224825",
         "0.21465808",
         "3.002037048339844",
         null,
         "255.98972250000045",
         "1",
         "261.98140930000045",
         "[3 2 1 0]",
         null,
         "Wurscht_mono_eq",
         "alemannic_austria",
         null,
         "0.3292316999995819",
         "False",
         "1",
         null,
         "-2.675050800000463",
         "4_2_01_trackerTest2022_2_5_2025-02-06_13h02.13.636.hdf5",
         "1",
         "Control Group",
         "Konstanz",
         "A",
         "1.0",
         "0.0107653840811223",
         "1",
         "20.0",
         "01_1_Ctrl_KN_A.csv"
        ],
        [
         "40",
         "256.32729969999855",
         "0.2029207",
         "0.2155752",
         "2.9871597290039062",
         null,
         "255.98972250000045",
         "1",
         "261.98140930000045",
         "[3 2 1 0]",
         null,
         "Wurscht_mono_eq",
         "alemannic_austria",
         null,
         "0.3375771999981225",
         "False",
         "1",
         null,
         "-2.6667053000019223",
         "4_2_01_trackerTest2022_2_5_2025-02-06_13h02.13.636.hdf5",
         "1",
         "Control Group",
         "Konstanz",
         "A",
         "1.0",
         "0.0107653840811223",
         "1",
         "20.0",
         "01_1_Ctrl_KN_A.csv"
        ],
        [
         "41",
         "256.33569069999794",
         "0.2011227",
         "0.21050024",
         "2.9959259033203125",
         null,
         "255.98972250000045",
         "1",
         "261.98140930000045",
         "[3 2 1 0]",
         null,
         "Wurscht_mono_eq",
         "alemannic_austria",
         null,
         "0.3459681999975146",
         "False",
         "1",
         null,
         "-2.65831430000253",
         "4_2_01_trackerTest2022_2_5_2025-02-06_13h02.13.636.hdf5",
         "1",
         "Control Group",
         "Konstanz",
         "A",
         "1.0",
         "0.0107653840811223",
         "1",
         "20.0",
         "01_1_Ctrl_KN_A.csv"
        ],
        [
         "42",
         "256.34398559999863",
         "0.20050558",
         "0.21296026",
         "2.994613647460937",
         null,
         "255.98972250000045",
         "1",
         "261.98140930000045",
         "[3 2 1 0]",
         null,
         "Wurscht_mono_eq",
         "alemannic_austria",
         null,
         "0.3542630999982066",
         "False",
         "1",
         null,
         "-2.650019400001838",
         "4_2_01_trackerTest2022_2_5_2025-02-06_13h02.13.636.hdf5",
         "1",
         "Control Group",
         "Konstanz",
         "A",
         "1.0",
         "0.0107653840811223",
         "1",
         "20.0",
         "01_1_Ctrl_KN_A.csv"
        ],
        [
         "43",
         "256.3523453000016",
         "0.2025936",
         "0.21787511",
         "2.985458374023437",
         null,
         "255.98972250000045",
         "1",
         "261.98140930000045",
         "[3 2 1 0]",
         null,
         "Wurscht_mono_eq",
         "alemannic_austria",
         null,
         "0.3626228000011906",
         "False",
         "1",
         null,
         "-2.641659699998854",
         "4_2_01_trackerTest2022_2_5_2025-02-06_13h02.13.636.hdf5",
         "1",
         "Control Group",
         "Konstanz",
         "A",
         "1.0",
         "0.0107653840811223",
         "1",
         "20.0",
         "01_1_Ctrl_KN_A.csv"
        ],
        [
         "44",
         "256.36065659999986",
         "0.20083004",
         "0.21197815",
         "2.9978790283203125",
         null,
         "255.98972250000045",
         "1",
         "261.98140930000045",
         "[3 2 1 0]",
         null,
         "Wurscht_mono_eq",
         "alemannic_austria",
         null,
         "0.370934099999431",
         "False",
         "1",
         null,
         "-2.6333484000006138",
         "4_2_01_trackerTest2022_2_5_2025-02-06_13h02.13.636.hdf5",
         "1",
         "Control Group",
         "Konstanz",
         "A",
         "1.0",
         "0.0107653840811223",
         "1",
         "20.0",
         "01_1_Ctrl_KN_A.csv"
        ],
        [
         "45",
         "256.36885059999986",
         "0.20150195",
         "0.21580368",
         "2.9858856201171875",
         null,
         "255.98972250000045",
         "1",
         "261.98140930000045",
         "[3 2 1 0]",
         null,
         "Wurscht_mono_eq",
         "alemannic_austria",
         null,
         "0.3791280999994342",
         "False",
         "1",
         null,
         "-2.6251544000006106",
         "4_2_01_trackerTest2022_2_5_2025-02-06_13h02.13.636.hdf5",
         "1",
         "Control Group",
         "Konstanz",
         "A",
         "1.0",
         "0.0107653840811223",
         "1",
         "20.0",
         "01_1_Ctrl_KN_A.csv"
        ],
        [
         "46",
         "256.37722790000043",
         "0.20103264",
         "0.21548036",
         "2.9954147338867188",
         null,
         "255.98972250000045",
         "1",
         "261.98140930000045",
         "[3 2 1 0]",
         null,
         "Wurscht_mono_eq",
         "alemannic_austria",
         null,
         "0.3875054000000091",
         "False",
         "1",
         null,
         "-2.6167771000000357",
         "4_2_01_trackerTest2022_2_5_2025-02-06_13h02.13.636.hdf5",
         "1",
         "Control Group",
         "Konstanz",
         "A",
         "1.0",
         "0.0107653840811223",
         "1",
         "20.0",
         "01_1_Ctrl_KN_A.csv"
        ],
        [
         "47",
         "256.3856914000007",
         "0.2024756",
         "0.2078538",
         "3.0111160278320312",
         null,
         "255.98972250000045",
         "1",
         "261.98140930000045",
         "[3 2 1 0]",
         null,
         "Wurscht_mono_eq",
         "alemannic_austria",
         null,
         "0.3959689000002981",
         "False",
         "1",
         null,
         "-2.6083135999997467",
         "4_2_01_trackerTest2022_2_5_2025-02-06_13h02.13.636.hdf5",
         "1",
         "Control Group",
         "Konstanz",
         "A",
         "1.0",
         "0.0107653840811223",
         "1",
         "20.0",
         "01_1_Ctrl_KN_A.csv"
        ],
        [
         "48",
         "256.3940143999989",
         "0.20053333",
         "0.21193904",
         "2.9972915649414062",
         null,
         "255.98972250000045",
         "1",
         "261.98140930000045",
         "[3 2 1 0]",
         null,
         "Wurscht_mono_eq",
         "alemannic_austria",
         null,
         "0.4042918999984977",
         "False",
         "1",
         null,
         "-2.599990600001547",
         "4_2_01_trackerTest2022_2_5_2025-02-06_13h02.13.636.hdf5",
         "1",
         "Control Group",
         "Konstanz",
         "A",
         "1.0",
         "0.0107653840811223",
         "1",
         "20.0",
         "01_1_Ctrl_KN_A.csv"
        ],
        [
         "49",
         "256.4023519000002",
         "0.20154852",
         "0.21669447",
         "2.998863220214844",
         null,
         "255.98972250000045",
         "1",
         "261.98140930000045",
         "[3 2 1 0]",
         null,
         "Wurscht_mono_eq",
         "alemannic_austria",
         null,
         "0.412629399999787",
         "False",
         "1",
         null,
         "-2.591653100000258",
         "4_2_01_trackerTest2022_2_5_2025-02-06_13h02.13.636.hdf5",
         "1",
         "Control Group",
         "Konstanz",
         "A",
         "1.0",
         "0.0107653840811223",
         "1",
         "20.0",
         "01_1_Ctrl_KN_A.csv"
        ]
       ],
       "shape": {
        "columns": 28,
        "rows": 3916174
       }
      },
      "text/html": [
       "<div>\n",
       "<style scoped>\n",
       "    .dataframe tbody tr th:only-of-type {\n",
       "        vertical-align: middle;\n",
       "    }\n",
       "\n",
       "    .dataframe tbody tr th {\n",
       "        vertical-align: top;\n",
       "    }\n",
       "\n",
       "    .dataframe thead th {\n",
       "        text-align: right;\n",
       "    }\n",
       "</style>\n",
       "<table border=\"1\" class=\"dataframe\">\n",
       "  <thead>\n",
       "    <tr style=\"text-align: right;\">\n",
       "      <th></th>\n",
       "      <th>time</th>\n",
       "      <th>gaze_x</th>\n",
       "      <th>gaze_y</th>\n",
       "      <th>pupil_size</th>\n",
       "      <th>region</th>\n",
       "      <th>start_time</th>\n",
       "      <th>trial</th>\n",
       "      <th>end_time</th>\n",
       "      <th>posPerm</th>\n",
       "      <th>AOI</th>\n",
       "      <th>...</th>\n",
       "      <th>in</th>\n",
       "      <th>Subject</th>\n",
       "      <th>Country</th>\n",
       "      <th>Institution</th>\n",
       "      <th>Version</th>\n",
       "      <th>Session</th>\n",
       "      <th>missingPercent</th>\n",
       "      <th>Run</th>\n",
       "      <th>numberOfTrials</th>\n",
       "      <th>out</th>\n",
       "    </tr>\n",
       "  </thead>\n",
       "  <tbody>\n",
       "    <tr>\n",
       "      <th>0</th>\n",
       "      <td>255.994005</td>\n",
       "      <td>0.055137</td>\n",
       "      <td>0.087705</td>\n",
       "      <td>2.976662</td>\n",
       "      <td>NaN</td>\n",
       "      <td>255.989723</td>\n",
       "      <td>1</td>\n",
       "      <td>261.981409</td>\n",
       "      <td>[3 2 1 0]</td>\n",
       "      <td>NaN</td>\n",
       "      <td>...</td>\n",
       "      <td>4_2_01_trackerTest2022_2_5_2025-02-06_13h02.13...</td>\n",
       "      <td>1</td>\n",
       "      <td>Control Group</td>\n",
       "      <td>Konstanz</td>\n",
       "      <td>A</td>\n",
       "      <td>1.0</td>\n",
       "      <td>0.010765</td>\n",
       "      <td>1</td>\n",
       "      <td>20.0</td>\n",
       "      <td>01_1_Ctrl_KN_A.csv</td>\n",
       "    </tr>\n",
       "    <tr>\n",
       "      <th>1</th>\n",
       "      <td>256.002354</td>\n",
       "      <td>0.053817</td>\n",
       "      <td>0.090300</td>\n",
       "      <td>2.980812</td>\n",
       "      <td>NaN</td>\n",
       "      <td>255.989723</td>\n",
       "      <td>1</td>\n",
       "      <td>261.981409</td>\n",
       "      <td>[3 2 1 0]</td>\n",
       "      <td>NaN</td>\n",
       "      <td>...</td>\n",
       "      <td>4_2_01_trackerTest2022_2_5_2025-02-06_13h02.13...</td>\n",
       "      <td>1</td>\n",
       "      <td>Control Group</td>\n",
       "      <td>Konstanz</td>\n",
       "      <td>A</td>\n",
       "      <td>1.0</td>\n",
       "      <td>0.010765</td>\n",
       "      <td>1</td>\n",
       "      <td>20.0</td>\n",
       "      <td>01_1_Ctrl_KN_A.csv</td>\n",
       "    </tr>\n",
       "    <tr>\n",
       "      <th>2</th>\n",
       "      <td>256.010695</td>\n",
       "      <td>0.056028</td>\n",
       "      <td>0.089534</td>\n",
       "      <td>2.976944</td>\n",
       "      <td>NaN</td>\n",
       "      <td>255.989723</td>\n",
       "      <td>1</td>\n",
       "      <td>261.981409</td>\n",
       "      <td>[3 2 1 0]</td>\n",
       "      <td>NaN</td>\n",
       "      <td>...</td>\n",
       "      <td>4_2_01_trackerTest2022_2_5_2025-02-06_13h02.13...</td>\n",
       "      <td>1</td>\n",
       "      <td>Control Group</td>\n",
       "      <td>Konstanz</td>\n",
       "      <td>A</td>\n",
       "      <td>1.0</td>\n",
       "      <td>0.010765</td>\n",
       "      <td>1</td>\n",
       "      <td>20.0</td>\n",
       "      <td>01_1_Ctrl_KN_A.csv</td>\n",
       "    </tr>\n",
       "    <tr>\n",
       "      <th>3</th>\n",
       "      <td>256.018993</td>\n",
       "      <td>0.054752</td>\n",
       "      <td>0.089698</td>\n",
       "      <td>2.980759</td>\n",
       "      <td>NaN</td>\n",
       "      <td>255.989723</td>\n",
       "      <td>1</td>\n",
       "      <td>261.981409</td>\n",
       "      <td>[3 2 1 0]</td>\n",
       "      <td>NaN</td>\n",
       "      <td>...</td>\n",
       "      <td>4_2_01_trackerTest2022_2_5_2025-02-06_13h02.13...</td>\n",
       "      <td>1</td>\n",
       "      <td>Control Group</td>\n",
       "      <td>Konstanz</td>\n",
       "      <td>A</td>\n",
       "      <td>1.0</td>\n",
       "      <td>0.010765</td>\n",
       "      <td>1</td>\n",
       "      <td>20.0</td>\n",
       "      <td>01_1_Ctrl_KN_A.csv</td>\n",
       "    </tr>\n",
       "    <tr>\n",
       "      <th>4</th>\n",
       "      <td>256.027354</td>\n",
       "      <td>0.055632</td>\n",
       "      <td>0.087283</td>\n",
       "      <td>2.980484</td>\n",
       "      <td>NaN</td>\n",
       "      <td>255.989723</td>\n",
       "      <td>1</td>\n",
       "      <td>261.981409</td>\n",
       "      <td>[3 2 1 0]</td>\n",
       "      <td>NaN</td>\n",
       "      <td>...</td>\n",
       "      <td>4_2_01_trackerTest2022_2_5_2025-02-06_13h02.13...</td>\n",
       "      <td>1</td>\n",
       "      <td>Control Group</td>\n",
       "      <td>Konstanz</td>\n",
       "      <td>A</td>\n",
       "      <td>1.0</td>\n",
       "      <td>0.010765</td>\n",
       "      <td>1</td>\n",
       "      <td>20.0</td>\n",
       "      <td>01_1_Ctrl_KN_A.csv</td>\n",
       "    </tr>\n",
       "    <tr>\n",
       "      <th>...</th>\n",
       "      <td>...</td>\n",
       "      <td>...</td>\n",
       "      <td>...</td>\n",
       "      <td>...</td>\n",
       "      <td>...</td>\n",
       "      <td>...</td>\n",
       "      <td>...</td>\n",
       "      <td>...</td>\n",
       "      <td>...</td>\n",
       "      <td>...</td>\n",
       "      <td>...</td>\n",
       "      <td>...</td>\n",
       "      <td>...</td>\n",
       "      <td>...</td>\n",
       "      <td>...</td>\n",
       "      <td>...</td>\n",
       "      <td>...</td>\n",
       "      <td>...</td>\n",
       "      <td>...</td>\n",
       "      <td>...</td>\n",
       "      <td>...</td>\n",
       "    </tr>\n",
       "    <tr>\n",
       "      <th>3916169</th>\n",
       "      <td>258.769167</td>\n",
       "      <td>0.369687</td>\n",
       "      <td>0.224969</td>\n",
       "      <td>5.698807</td>\n",
       "      <td>tr</td>\n",
       "      <td>252.810690</td>\n",
       "      <td>20</td>\n",
       "      <td>258.807118</td>\n",
       "      <td>[1 0 3 2]</td>\n",
       "      <td>target_image</td>\n",
       "      <td>...</td>\n",
       "      <td>3_04_035_trackerTest2022_2_5_2025-02-17_11h34....</td>\n",
       "      <td>35</td>\n",
       "      <td>Schweiz</td>\n",
       "      <td>Grundschule</td>\n",
       "      <td>B</td>\n",
       "      <td>2.0</td>\n",
       "      <td>0.092229</td>\n",
       "      <td>2</td>\n",
       "      <td>20.0</td>\n",
       "      <td>035_2_CH_GS_B.csv</td>\n",
       "    </tr>\n",
       "    <tr>\n",
       "      <th>3916170</th>\n",
       "      <td>258.777500</td>\n",
       "      <td>0.371951</td>\n",
       "      <td>0.228924</td>\n",
       "      <td>5.696983</td>\n",
       "      <td>tr</td>\n",
       "      <td>252.810690</td>\n",
       "      <td>20</td>\n",
       "      <td>258.807118</td>\n",
       "      <td>[1 0 3 2]</td>\n",
       "      <td>target_image</td>\n",
       "      <td>...</td>\n",
       "      <td>3_04_035_trackerTest2022_2_5_2025-02-17_11h34....</td>\n",
       "      <td>35</td>\n",
       "      <td>Schweiz</td>\n",
       "      <td>Grundschule</td>\n",
       "      <td>B</td>\n",
       "      <td>2.0</td>\n",
       "      <td>0.092229</td>\n",
       "      <td>2</td>\n",
       "      <td>20.0</td>\n",
       "      <td>035_2_CH_GS_B.csv</td>\n",
       "    </tr>\n",
       "    <tr>\n",
       "      <th>3916171</th>\n",
       "      <td>258.785834</td>\n",
       "      <td>0.368040</td>\n",
       "      <td>0.223833</td>\n",
       "      <td>5.695259</td>\n",
       "      <td>tr</td>\n",
       "      <td>252.810690</td>\n",
       "      <td>20</td>\n",
       "      <td>258.807118</td>\n",
       "      <td>[1 0 3 2]</td>\n",
       "      <td>target_image</td>\n",
       "      <td>...</td>\n",
       "      <td>3_04_035_trackerTest2022_2_5_2025-02-17_11h34....</td>\n",
       "      <td>35</td>\n",
       "      <td>Schweiz</td>\n",
       "      <td>Grundschule</td>\n",
       "      <td>B</td>\n",
       "      <td>2.0</td>\n",
       "      <td>0.092229</td>\n",
       "      <td>2</td>\n",
       "      <td>20.0</td>\n",
       "      <td>035_2_CH_GS_B.csv</td>\n",
       "    </tr>\n",
       "    <tr>\n",
       "      <th>3916172</th>\n",
       "      <td>258.794239</td>\n",
       "      <td>0.369264</td>\n",
       "      <td>0.227365</td>\n",
       "      <td>5.692795</td>\n",
       "      <td>tr</td>\n",
       "      <td>252.810690</td>\n",
       "      <td>20</td>\n",
       "      <td>258.807118</td>\n",
       "      <td>[1 0 3 2]</td>\n",
       "      <td>target_image</td>\n",
       "      <td>...</td>\n",
       "      <td>3_04_035_trackerTest2022_2_5_2025-02-17_11h34....</td>\n",
       "      <td>35</td>\n",
       "      <td>Schweiz</td>\n",
       "      <td>Grundschule</td>\n",
       "      <td>B</td>\n",
       "      <td>2.0</td>\n",
       "      <td>0.092229</td>\n",
       "      <td>2</td>\n",
       "      <td>20.0</td>\n",
       "      <td>035_2_CH_GS_B.csv</td>\n",
       "    </tr>\n",
       "    <tr>\n",
       "      <th>3916173</th>\n",
       "      <td>258.802502</td>\n",
       "      <td>0.367588</td>\n",
       "      <td>0.225009</td>\n",
       "      <td>5.691971</td>\n",
       "      <td>tr</td>\n",
       "      <td>252.810690</td>\n",
       "      <td>20</td>\n",
       "      <td>258.807118</td>\n",
       "      <td>[1 0 3 2]</td>\n",
       "      <td>target_image</td>\n",
       "      <td>...</td>\n",
       "      <td>3_04_035_trackerTest2022_2_5_2025-02-17_11h34....</td>\n",
       "      <td>35</td>\n",
       "      <td>Schweiz</td>\n",
       "      <td>Grundschule</td>\n",
       "      <td>B</td>\n",
       "      <td>2.0</td>\n",
       "      <td>0.092229</td>\n",
       "      <td>2</td>\n",
       "      <td>20.0</td>\n",
       "      <td>035_2_CH_GS_B.csv</td>\n",
       "    </tr>\n",
       "  </tbody>\n",
       "</table>\n",
       "<p>3916174 rows × 28 columns</p>\n",
       "</div>"
      ],
      "text/plain": [
       "               time    gaze_x    gaze_y  pupil_size region  start_time  trial  \\\n",
       "0        255.994005  0.055137  0.087705    2.976662    NaN  255.989723      1   \n",
       "1        256.002354  0.053817  0.090300    2.980812    NaN  255.989723      1   \n",
       "2        256.010695  0.056028  0.089534    2.976944    NaN  255.989723      1   \n",
       "3        256.018993  0.054752  0.089698    2.980759    NaN  255.989723      1   \n",
       "4        256.027354  0.055632  0.087283    2.980484    NaN  255.989723      1   \n",
       "...             ...       ...       ...         ...    ...         ...    ...   \n",
       "3916169  258.769167  0.369687  0.224969    5.698807     tr  252.810690     20   \n",
       "3916170  258.777500  0.371951  0.228924    5.696983     tr  252.810690     20   \n",
       "3916171  258.785834  0.368040  0.223833    5.695259     tr  252.810690     20   \n",
       "3916172  258.794239  0.369264  0.227365    5.692795     tr  252.810690     20   \n",
       "3916173  258.802502  0.367588  0.225009    5.691971     tr  252.810690     20   \n",
       "\n",
       "           end_time    posPerm           AOI  ...  \\\n",
       "0        261.981409  [3 2 1 0]           NaN  ...   \n",
       "1        261.981409  [3 2 1 0]           NaN  ...   \n",
       "2        261.981409  [3 2 1 0]           NaN  ...   \n",
       "3        261.981409  [3 2 1 0]           NaN  ...   \n",
       "4        261.981409  [3 2 1 0]           NaN  ...   \n",
       "...             ...        ...           ...  ...   \n",
       "3916169  258.807118  [1 0 3 2]  target_image  ...   \n",
       "3916170  258.807118  [1 0 3 2]  target_image  ...   \n",
       "3916171  258.807118  [1 0 3 2]  target_image  ...   \n",
       "3916172  258.807118  [1 0 3 2]  target_image  ...   \n",
       "3916173  258.807118  [1 0 3 2]  target_image  ...   \n",
       "\n",
       "                                                        in Subject  \\\n",
       "0        4_2_01_trackerTest2022_2_5_2025-02-06_13h02.13...       1   \n",
       "1        4_2_01_trackerTest2022_2_5_2025-02-06_13h02.13...       1   \n",
       "2        4_2_01_trackerTest2022_2_5_2025-02-06_13h02.13...       1   \n",
       "3        4_2_01_trackerTest2022_2_5_2025-02-06_13h02.13...       1   \n",
       "4        4_2_01_trackerTest2022_2_5_2025-02-06_13h02.13...       1   \n",
       "...                                                    ...     ...   \n",
       "3916169  3_04_035_trackerTest2022_2_5_2025-02-17_11h34....      35   \n",
       "3916170  3_04_035_trackerTest2022_2_5_2025-02-17_11h34....      35   \n",
       "3916171  3_04_035_trackerTest2022_2_5_2025-02-17_11h34....      35   \n",
       "3916172  3_04_035_trackerTest2022_2_5_2025-02-17_11h34....      35   \n",
       "3916173  3_04_035_trackerTest2022_2_5_2025-02-17_11h34....      35   \n",
       "\n",
       "               Country  Institution  Version  Session  missingPercent  Run  \\\n",
       "0        Control Group     Konstanz        A      1.0        0.010765    1   \n",
       "1        Control Group     Konstanz        A      1.0        0.010765    1   \n",
       "2        Control Group     Konstanz        A      1.0        0.010765    1   \n",
       "3        Control Group     Konstanz        A      1.0        0.010765    1   \n",
       "4        Control Group     Konstanz        A      1.0        0.010765    1   \n",
       "...                ...          ...      ...      ...             ...  ...   \n",
       "3916169        Schweiz  Grundschule        B      2.0        0.092229    2   \n",
       "3916170        Schweiz  Grundschule        B      2.0        0.092229    2   \n",
       "3916171        Schweiz  Grundschule        B      2.0        0.092229    2   \n",
       "3916172        Schweiz  Grundschule        B      2.0        0.092229    2   \n",
       "3916173        Schweiz  Grundschule        B      2.0        0.092229    2   \n",
       "\n",
       "        numberOfTrials                 out  \n",
       "0                 20.0  01_1_Ctrl_KN_A.csv  \n",
       "1                 20.0  01_1_Ctrl_KN_A.csv  \n",
       "2                 20.0  01_1_Ctrl_KN_A.csv  \n",
       "3                 20.0  01_1_Ctrl_KN_A.csv  \n",
       "4                 20.0  01_1_Ctrl_KN_A.csv  \n",
       "...                ...                 ...  \n",
       "3916169           20.0   035_2_CH_GS_B.csv  \n",
       "3916170           20.0   035_2_CH_GS_B.csv  \n",
       "3916171           20.0   035_2_CH_GS_B.csv  \n",
       "3916172           20.0   035_2_CH_GS_B.csv  \n",
       "3916173           20.0   035_2_CH_GS_B.csv  \n",
       "\n",
       "[3916174 rows x 28 columns]"
      ]
     },
     "execution_count": 6,
     "metadata": {},
     "output_type": "execute_result"
    }
   ],
   "source": [
    "# Aggregate processed data for visualization\n",
    "aggregated_df = et.aggregate_processed_data(output_dir, meta_table)\n",
    "aggregated_df"
   ]
  },
  {
   "cell_type": "code",
   "execution_count": 7,
   "id": "7b2844f2",
   "metadata": {},
   "outputs": [
    {
     "data": {
      "application/vnd.jupyter.widget-view+json": {
       "model_id": "e9f6230804ce451aaccb0f39d66e5ab8",
       "version_major": 2,
       "version_minor": 0
      },
      "text/plain": [
       "VBox(children=(FigureWidget({\n",
       "    'data': [{'hovertemplate': 'variable=phonological_image<br>timeBin=%{x}<br>v…"
      ]
     },
     "execution_count": 7,
     "metadata": {},
     "output_type": "execute_result"
    }
   ],
   "source": [
    "# Visualized processed data\n",
    "et.filterable_fixation_proportion_line(aggregated_df)"
   ]
  },
  {
   "cell_type": "code",
   "execution_count": 8,
   "id": "8a402312",
   "metadata": {},
   "outputs": [
    {
     "name": "stderr",
     "output_type": "stream",
     "text": [
      "C:\\Users\\Cyril\\AppData\\Local\\Temp\\ipykernel_18004\\2627931467.py:4: DeprecationWarning:\n",
      "\n",
      "DataFrameGroupBy.apply operated on the grouping columns. This behavior is deprecated, and in a future version of pandas the grouping columns will be excluded from the operation. Either pass `include_groups=False` to exclude the groupings or explicitly select the grouping columns after groupby to silence this warning.\n",
      "\n"
     ]
    },
    {
     "data": {
      "application/vnd.plotly.v1+json": {
       "config": {
        "plotlyServerURL": "https://plot.ly"
       },
       "data": [
        {
         "error_y": {
          "array": {
           "bdata": "UqvWbPNRhz+IjTkkJ6CFPw==",
           "dtype": "f8"
          },
          "type": "data"
         },
         "name": "Deutschland",
         "type": "bar",
         "x": [
          "standard",
          "alemannic_austria"
         ],
         "y": {
          "bdata": "67y4J6CKsj8B9Ks3nTi0Pw==",
          "dtype": "f8"
         }
        },
        {
         "error_y": {
          "array": {
           "bdata": "e7UJ+8Bylz+YfReBlYChPw==",
           "dtype": "f8"
          },
          "type": "data"
         },
         "name": "Schweiz",
         "type": "bar",
         "x": [
          "standard",
          "alemannic_austria"
         ],
         "y": {
          "bdata": "fNp1T7dbrj9QkLwli4OzPw==",
          "dtype": "f8"
         }
        },
        {
         "error_y": {
          "array": {
           "bdata": "sQJrdK9dkj9f+U9mXnyQPw==",
           "dtype": "f8"
          },
          "type": "data"
         },
         "name": "Österreich",
         "type": "bar",
         "x": [
          "standard",
          "alemannic_austria"
         ],
         "y": {
          "bdata": "AqkHAhv/sz87bBozgc6wPw==",
          "dtype": "f8"
         }
        }
       ],
       "layout": {
        "barmode": "group",
        "template": {
         "data": {
          "bar": [
           {
            "error_x": {
             "color": "#2a3f5f"
            },
            "error_y": {
             "color": "#2a3f5f"
            },
            "marker": {
             "line": {
              "color": "#E5ECF6",
              "width": 0.5
             },
             "pattern": {
              "fillmode": "overlay",
              "size": 10,
              "solidity": 0.2
             }
            },
            "type": "bar"
           }
          ],
          "barpolar": [
           {
            "marker": {
             "line": {
              "color": "#E5ECF6",
              "width": 0.5
             },
             "pattern": {
              "fillmode": "overlay",
              "size": 10,
              "solidity": 0.2
             }
            },
            "type": "barpolar"
           }
          ],
          "carpet": [
           {
            "aaxis": {
             "endlinecolor": "#2a3f5f",
             "gridcolor": "white",
             "linecolor": "white",
             "minorgridcolor": "white",
             "startlinecolor": "#2a3f5f"
            },
            "baxis": {
             "endlinecolor": "#2a3f5f",
             "gridcolor": "white",
             "linecolor": "white",
             "minorgridcolor": "white",
             "startlinecolor": "#2a3f5f"
            },
            "type": "carpet"
           }
          ],
          "choropleth": [
           {
            "colorbar": {
             "outlinewidth": 0,
             "ticks": ""
            },
            "type": "choropleth"
           }
          ],
          "contour": [
           {
            "colorbar": {
             "outlinewidth": 0,
             "ticks": ""
            },
            "colorscale": [
             [
              0,
              "#0d0887"
             ],
             [
              0.1111111111111111,
              "#46039f"
             ],
             [
              0.2222222222222222,
              "#7201a8"
             ],
             [
              0.3333333333333333,
              "#9c179e"
             ],
             [
              0.4444444444444444,
              "#bd3786"
             ],
             [
              0.5555555555555556,
              "#d8576b"
             ],
             [
              0.6666666666666666,
              "#ed7953"
             ],
             [
              0.7777777777777778,
              "#fb9f3a"
             ],
             [
              0.8888888888888888,
              "#fdca26"
             ],
             [
              1,
              "#f0f921"
             ]
            ],
            "type": "contour"
           }
          ],
          "contourcarpet": [
           {
            "colorbar": {
             "outlinewidth": 0,
             "ticks": ""
            },
            "type": "contourcarpet"
           }
          ],
          "heatmap": [
           {
            "colorbar": {
             "outlinewidth": 0,
             "ticks": ""
            },
            "colorscale": [
             [
              0,
              "#0d0887"
             ],
             [
              0.1111111111111111,
              "#46039f"
             ],
             [
              0.2222222222222222,
              "#7201a8"
             ],
             [
              0.3333333333333333,
              "#9c179e"
             ],
             [
              0.4444444444444444,
              "#bd3786"
             ],
             [
              0.5555555555555556,
              "#d8576b"
             ],
             [
              0.6666666666666666,
              "#ed7953"
             ],
             [
              0.7777777777777778,
              "#fb9f3a"
             ],
             [
              0.8888888888888888,
              "#fdca26"
             ],
             [
              1,
              "#f0f921"
             ]
            ],
            "type": "heatmap"
           }
          ],
          "histogram": [
           {
            "marker": {
             "pattern": {
              "fillmode": "overlay",
              "size": 10,
              "solidity": 0.2
             }
            },
            "type": "histogram"
           }
          ],
          "histogram2d": [
           {
            "colorbar": {
             "outlinewidth": 0,
             "ticks": ""
            },
            "colorscale": [
             [
              0,
              "#0d0887"
             ],
             [
              0.1111111111111111,
              "#46039f"
             ],
             [
              0.2222222222222222,
              "#7201a8"
             ],
             [
              0.3333333333333333,
              "#9c179e"
             ],
             [
              0.4444444444444444,
              "#bd3786"
             ],
             [
              0.5555555555555556,
              "#d8576b"
             ],
             [
              0.6666666666666666,
              "#ed7953"
             ],
             [
              0.7777777777777778,
              "#fb9f3a"
             ],
             [
              0.8888888888888888,
              "#fdca26"
             ],
             [
              1,
              "#f0f921"
             ]
            ],
            "type": "histogram2d"
           }
          ],
          "histogram2dcontour": [
           {
            "colorbar": {
             "outlinewidth": 0,
             "ticks": ""
            },
            "colorscale": [
             [
              0,
              "#0d0887"
             ],
             [
              0.1111111111111111,
              "#46039f"
             ],
             [
              0.2222222222222222,
              "#7201a8"
             ],
             [
              0.3333333333333333,
              "#9c179e"
             ],
             [
              0.4444444444444444,
              "#bd3786"
             ],
             [
              0.5555555555555556,
              "#d8576b"
             ],
             [
              0.6666666666666666,
              "#ed7953"
             ],
             [
              0.7777777777777778,
              "#fb9f3a"
             ],
             [
              0.8888888888888888,
              "#fdca26"
             ],
             [
              1,
              "#f0f921"
             ]
            ],
            "type": "histogram2dcontour"
           }
          ],
          "mesh3d": [
           {
            "colorbar": {
             "outlinewidth": 0,
             "ticks": ""
            },
            "type": "mesh3d"
           }
          ],
          "parcoords": [
           {
            "line": {
             "colorbar": {
              "outlinewidth": 0,
              "ticks": ""
             }
            },
            "type": "parcoords"
           }
          ],
          "pie": [
           {
            "automargin": true,
            "type": "pie"
           }
          ],
          "scatter": [
           {
            "fillpattern": {
             "fillmode": "overlay",
             "size": 10,
             "solidity": 0.2
            },
            "type": "scatter"
           }
          ],
          "scatter3d": [
           {
            "line": {
             "colorbar": {
              "outlinewidth": 0,
              "ticks": ""
             }
            },
            "marker": {
             "colorbar": {
              "outlinewidth": 0,
              "ticks": ""
             }
            },
            "type": "scatter3d"
           }
          ],
          "scattercarpet": [
           {
            "marker": {
             "colorbar": {
              "outlinewidth": 0,
              "ticks": ""
             }
            },
            "type": "scattercarpet"
           }
          ],
          "scattergeo": [
           {
            "marker": {
             "colorbar": {
              "outlinewidth": 0,
              "ticks": ""
             }
            },
            "type": "scattergeo"
           }
          ],
          "scattergl": [
           {
            "marker": {
             "colorbar": {
              "outlinewidth": 0,
              "ticks": ""
             }
            },
            "type": "scattergl"
           }
          ],
          "scattermap": [
           {
            "marker": {
             "colorbar": {
              "outlinewidth": 0,
              "ticks": ""
             }
            },
            "type": "scattermap"
           }
          ],
          "scattermapbox": [
           {
            "marker": {
             "colorbar": {
              "outlinewidth": 0,
              "ticks": ""
             }
            },
            "type": "scattermapbox"
           }
          ],
          "scatterpolar": [
           {
            "marker": {
             "colorbar": {
              "outlinewidth": 0,
              "ticks": ""
             }
            },
            "type": "scatterpolar"
           }
          ],
          "scatterpolargl": [
           {
            "marker": {
             "colorbar": {
              "outlinewidth": 0,
              "ticks": ""
             }
            },
            "type": "scatterpolargl"
           }
          ],
          "scatterternary": [
           {
            "marker": {
             "colorbar": {
              "outlinewidth": 0,
              "ticks": ""
             }
            },
            "type": "scatterternary"
           }
          ],
          "surface": [
           {
            "colorbar": {
             "outlinewidth": 0,
             "ticks": ""
            },
            "colorscale": [
             [
              0,
              "#0d0887"
             ],
             [
              0.1111111111111111,
              "#46039f"
             ],
             [
              0.2222222222222222,
              "#7201a8"
             ],
             [
              0.3333333333333333,
              "#9c179e"
             ],
             [
              0.4444444444444444,
              "#bd3786"
             ],
             [
              0.5555555555555556,
              "#d8576b"
             ],
             [
              0.6666666666666666,
              "#ed7953"
             ],
             [
              0.7777777777777778,
              "#fb9f3a"
             ],
             [
              0.8888888888888888,
              "#fdca26"
             ],
             [
              1,
              "#f0f921"
             ]
            ],
            "type": "surface"
           }
          ],
          "table": [
           {
            "cells": {
             "fill": {
              "color": "#EBF0F8"
             },
             "line": {
              "color": "white"
             }
            },
            "header": {
             "fill": {
              "color": "#C8D4E3"
             },
             "line": {
              "color": "white"
             }
            },
            "type": "table"
           }
          ]
         },
         "layout": {
          "annotationdefaults": {
           "arrowcolor": "#2a3f5f",
           "arrowhead": 0,
           "arrowwidth": 1
          },
          "autotypenumbers": "strict",
          "coloraxis": {
           "colorbar": {
            "outlinewidth": 0,
            "ticks": ""
           }
          },
          "colorscale": {
           "diverging": [
            [
             0,
             "#8e0152"
            ],
            [
             0.1,
             "#c51b7d"
            ],
            [
             0.2,
             "#de77ae"
            ],
            [
             0.3,
             "#f1b6da"
            ],
            [
             0.4,
             "#fde0ef"
            ],
            [
             0.5,
             "#f7f7f7"
            ],
            [
             0.6,
             "#e6f5d0"
            ],
            [
             0.7,
             "#b8e186"
            ],
            [
             0.8,
             "#7fbc41"
            ],
            [
             0.9,
             "#4d9221"
            ],
            [
             1,
             "#276419"
            ]
           ],
           "sequential": [
            [
             0,
             "#0d0887"
            ],
            [
             0.1111111111111111,
             "#46039f"
            ],
            [
             0.2222222222222222,
             "#7201a8"
            ],
            [
             0.3333333333333333,
             "#9c179e"
            ],
            [
             0.4444444444444444,
             "#bd3786"
            ],
            [
             0.5555555555555556,
             "#d8576b"
            ],
            [
             0.6666666666666666,
             "#ed7953"
            ],
            [
             0.7777777777777778,
             "#fb9f3a"
            ],
            [
             0.8888888888888888,
             "#fdca26"
            ],
            [
             1,
             "#f0f921"
            ]
           ],
           "sequentialminus": [
            [
             0,
             "#0d0887"
            ],
            [
             0.1111111111111111,
             "#46039f"
            ],
            [
             0.2222222222222222,
             "#7201a8"
            ],
            [
             0.3333333333333333,
             "#9c179e"
            ],
            [
             0.4444444444444444,
             "#bd3786"
            ],
            [
             0.5555555555555556,
             "#d8576b"
            ],
            [
             0.6666666666666666,
             "#ed7953"
            ],
            [
             0.7777777777777778,
             "#fb9f3a"
            ],
            [
             0.8888888888888888,
             "#fdca26"
            ],
            [
             1,
             "#f0f921"
            ]
           ]
          },
          "colorway": [
           "#636efa",
           "#EF553B",
           "#00cc96",
           "#ab63fa",
           "#FFA15A",
           "#19d3f3",
           "#FF6692",
           "#B6E880",
           "#FF97FF",
           "#FECB52"
          ],
          "font": {
           "color": "#2a3f5f"
          },
          "geo": {
           "bgcolor": "white",
           "lakecolor": "white",
           "landcolor": "#E5ECF6",
           "showlakes": true,
           "showland": true,
           "subunitcolor": "white"
          },
          "hoverlabel": {
           "align": "left"
          },
          "hovermode": "closest",
          "mapbox": {
           "style": "light"
          },
          "paper_bgcolor": "white",
          "plot_bgcolor": "#E5ECF6",
          "polar": {
           "angularaxis": {
            "gridcolor": "white",
            "linecolor": "white",
            "ticks": ""
           },
           "bgcolor": "#E5ECF6",
           "radialaxis": {
            "gridcolor": "white",
            "linecolor": "white",
            "ticks": ""
           }
          },
          "scene": {
           "xaxis": {
            "backgroundcolor": "#E5ECF6",
            "gridcolor": "white",
            "gridwidth": 2,
            "linecolor": "white",
            "showbackground": true,
            "ticks": "",
            "zerolinecolor": "white"
           },
           "yaxis": {
            "backgroundcolor": "#E5ECF6",
            "gridcolor": "white",
            "gridwidth": 2,
            "linecolor": "white",
            "showbackground": true,
            "ticks": "",
            "zerolinecolor": "white"
           },
           "zaxis": {
            "backgroundcolor": "#E5ECF6",
            "gridcolor": "white",
            "gridwidth": 2,
            "linecolor": "white",
            "showbackground": true,
            "ticks": "",
            "zerolinecolor": "white"
           }
          },
          "shapedefaults": {
           "line": {
            "color": "#2a3f5f"
           }
          },
          "ternary": {
           "aaxis": {
            "gridcolor": "white",
            "linecolor": "white",
            "ticks": ""
           },
           "baxis": {
            "gridcolor": "white",
            "linecolor": "white",
            "ticks": ""
           },
           "bgcolor": "#E5ECF6",
           "caxis": {
            "gridcolor": "white",
            "linecolor": "white",
            "ticks": ""
           }
          },
          "title": {
           "x": 0.05
          },
          "xaxis": {
           "automargin": true,
           "gridcolor": "white",
           "linecolor": "white",
           "ticks": "",
           "title": {
            "standoff": 15
           },
           "zerolinecolor": "white",
           "zerolinewidth": 2
          },
          "yaxis": {
           "automargin": true,
           "gridcolor": "white",
           "linecolor": "white",
           "ticks": "",
           "title": {
            "standoff": 15
           },
           "zerolinecolor": "white",
           "zerolinewidth": 2
          }
         }
        }
       }
      }
     },
     "metadata": {},
     "output_type": "display_data"
    }
   ],
   "source": [
    "filt_agg_df = aggregated_df[(aggregated_df.Country != \"Control Group\") &\n",
    "                            (aggregated_df.Session == 1) &\n",
    "                            aggregated_df.AOI.notnull()]\n",
    "dplt_df = filt_agg_df.groupby([\"out\", \"Country\", \"condition\"]).apply(lambda frame: (frame[frame.timeFromOnsetMs >= 0].AOI == \"target_image\").mean() - (frame[frame.timeFromOnsetMs < 0].AOI == \"target_image\").mean())\n",
    "dplt_df = dplt_df.rename(\"dplt\").reset_index()\n",
    "\n",
    "dplt_df = dplt_df.loc[:, [\"Country\", \"condition\", \"dplt\"]].groupby([\"Country\", \"condition\"]).agg(dpltMean=('dplt', 'mean'), dpltSEM=('dplt', 'sem')).reset_index()\n",
    "dplt_mean = pd.pivot(dplt_df, index='Country', columns='condition', values=\"dpltMean\")\n",
    "dplt_sem = pd.pivot(dplt_df, index='Country', columns='condition', values=\"dpltSEM\")\n",
    "fig = go.Figure()\n",
    "fig.add_trace(go.Bar(\n",
    "    name='Deutschland',\n",
    "    x=['standard', 'alemannic_austria'], y=dplt_mean.loc[\"Deutschland\", :],\n",
    "    error_y=dict(type='data', array=dplt_sem.loc[\"Deutschland\", :])\n",
    "))\n",
    "fig.add_trace(go.Bar(\n",
    "    name='Schweiz',\n",
    "    x=['standard', 'alemannic_austria'], y=dplt_mean.loc[\"Schweiz\", :],\n",
    "    error_y=dict(type='data', array=dplt_sem.loc[\"Schweiz\", :])\n",
    "))\n",
    "fig.add_trace(go.Bar(\n",
    "    name='Österreich',\n",
    "    x=['standard', 'alemannic_austria'], y=dplt_mean.loc[\"Österreich\", :],\n",
    "    error_y=dict(type='data', array=dplt_sem.loc[\"Österreich\", :])\n",
    "))\n",
    "fig.update_layout(barmode='group')\n",
    "fig.show()"
   ]
  },
  {
   "cell_type": "code",
   "execution_count": 9,
   "id": "3533d3b4",
   "metadata": {},
   "outputs": [
    {
     "data": {
      "application/vnd.plotly.v1+json": {
       "config": {
        "plotlyServerURL": "https://plot.ly"
       },
       "data": [
        {
         "error_y": {
          "array": {
           "bdata": "iI05JCeghT+YfReBlYChP1/5T2ZefJA/",
           "dtype": "f8"
          },
          "type": "data"
         },
         "name": "standard",
         "type": "bar",
         "x": [
          "Deutschland",
          "Schweiz",
          "Österreich"
         ],
         "y": {
          "bdata": "AfSrN504tD9QkLwli4OzPztsGjOBzrA/",
          "dtype": "f8"
         }
        },
        {
         "error_y": {
          "array": {
           "bdata": "UqvWbPNRhz97tQn7wHKXP7ECa3SvXZI/",
           "dtype": "f8"
          },
          "type": "data"
         },
         "name": "alemannic_austria",
         "type": "bar",
         "x": [
          "Deutschland",
          "Schweiz",
          "Österreich"
         ],
         "y": {
          "bdata": "67y4J6CKsj982nVPt1uuPwKpBwIb/7M/",
          "dtype": "f8"
         }
        }
       ],
       "layout": {
        "barmode": "group",
        "template": {
         "data": {
          "bar": [
           {
            "error_x": {
             "color": "#2a3f5f"
            },
            "error_y": {
             "color": "#2a3f5f"
            },
            "marker": {
             "line": {
              "color": "#E5ECF6",
              "width": 0.5
             },
             "pattern": {
              "fillmode": "overlay",
              "size": 10,
              "solidity": 0.2
             }
            },
            "type": "bar"
           }
          ],
          "barpolar": [
           {
            "marker": {
             "line": {
              "color": "#E5ECF6",
              "width": 0.5
             },
             "pattern": {
              "fillmode": "overlay",
              "size": 10,
              "solidity": 0.2
             }
            },
            "type": "barpolar"
           }
          ],
          "carpet": [
           {
            "aaxis": {
             "endlinecolor": "#2a3f5f",
             "gridcolor": "white",
             "linecolor": "white",
             "minorgridcolor": "white",
             "startlinecolor": "#2a3f5f"
            },
            "baxis": {
             "endlinecolor": "#2a3f5f",
             "gridcolor": "white",
             "linecolor": "white",
             "minorgridcolor": "white",
             "startlinecolor": "#2a3f5f"
            },
            "type": "carpet"
           }
          ],
          "choropleth": [
           {
            "colorbar": {
             "outlinewidth": 0,
             "ticks": ""
            },
            "type": "choropleth"
           }
          ],
          "contour": [
           {
            "colorbar": {
             "outlinewidth": 0,
             "ticks": ""
            },
            "colorscale": [
             [
              0,
              "#0d0887"
             ],
             [
              0.1111111111111111,
              "#46039f"
             ],
             [
              0.2222222222222222,
              "#7201a8"
             ],
             [
              0.3333333333333333,
              "#9c179e"
             ],
             [
              0.4444444444444444,
              "#bd3786"
             ],
             [
              0.5555555555555556,
              "#d8576b"
             ],
             [
              0.6666666666666666,
              "#ed7953"
             ],
             [
              0.7777777777777778,
              "#fb9f3a"
             ],
             [
              0.8888888888888888,
              "#fdca26"
             ],
             [
              1,
              "#f0f921"
             ]
            ],
            "type": "contour"
           }
          ],
          "contourcarpet": [
           {
            "colorbar": {
             "outlinewidth": 0,
             "ticks": ""
            },
            "type": "contourcarpet"
           }
          ],
          "heatmap": [
           {
            "colorbar": {
             "outlinewidth": 0,
             "ticks": ""
            },
            "colorscale": [
             [
              0,
              "#0d0887"
             ],
             [
              0.1111111111111111,
              "#46039f"
             ],
             [
              0.2222222222222222,
              "#7201a8"
             ],
             [
              0.3333333333333333,
              "#9c179e"
             ],
             [
              0.4444444444444444,
              "#bd3786"
             ],
             [
              0.5555555555555556,
              "#d8576b"
             ],
             [
              0.6666666666666666,
              "#ed7953"
             ],
             [
              0.7777777777777778,
              "#fb9f3a"
             ],
             [
              0.8888888888888888,
              "#fdca26"
             ],
             [
              1,
              "#f0f921"
             ]
            ],
            "type": "heatmap"
           }
          ],
          "histogram": [
           {
            "marker": {
             "pattern": {
              "fillmode": "overlay",
              "size": 10,
              "solidity": 0.2
             }
            },
            "type": "histogram"
           }
          ],
          "histogram2d": [
           {
            "colorbar": {
             "outlinewidth": 0,
             "ticks": ""
            },
            "colorscale": [
             [
              0,
              "#0d0887"
             ],
             [
              0.1111111111111111,
              "#46039f"
             ],
             [
              0.2222222222222222,
              "#7201a8"
             ],
             [
              0.3333333333333333,
              "#9c179e"
             ],
             [
              0.4444444444444444,
              "#bd3786"
             ],
             [
              0.5555555555555556,
              "#d8576b"
             ],
             [
              0.6666666666666666,
              "#ed7953"
             ],
             [
              0.7777777777777778,
              "#fb9f3a"
             ],
             [
              0.8888888888888888,
              "#fdca26"
             ],
             [
              1,
              "#f0f921"
             ]
            ],
            "type": "histogram2d"
           }
          ],
          "histogram2dcontour": [
           {
            "colorbar": {
             "outlinewidth": 0,
             "ticks": ""
            },
            "colorscale": [
             [
              0,
              "#0d0887"
             ],
             [
              0.1111111111111111,
              "#46039f"
             ],
             [
              0.2222222222222222,
              "#7201a8"
             ],
             [
              0.3333333333333333,
              "#9c179e"
             ],
             [
              0.4444444444444444,
              "#bd3786"
             ],
             [
              0.5555555555555556,
              "#d8576b"
             ],
             [
              0.6666666666666666,
              "#ed7953"
             ],
             [
              0.7777777777777778,
              "#fb9f3a"
             ],
             [
              0.8888888888888888,
              "#fdca26"
             ],
             [
              1,
              "#f0f921"
             ]
            ],
            "type": "histogram2dcontour"
           }
          ],
          "mesh3d": [
           {
            "colorbar": {
             "outlinewidth": 0,
             "ticks": ""
            },
            "type": "mesh3d"
           }
          ],
          "parcoords": [
           {
            "line": {
             "colorbar": {
              "outlinewidth": 0,
              "ticks": ""
             }
            },
            "type": "parcoords"
           }
          ],
          "pie": [
           {
            "automargin": true,
            "type": "pie"
           }
          ],
          "scatter": [
           {
            "fillpattern": {
             "fillmode": "overlay",
             "size": 10,
             "solidity": 0.2
            },
            "type": "scatter"
           }
          ],
          "scatter3d": [
           {
            "line": {
             "colorbar": {
              "outlinewidth": 0,
              "ticks": ""
             }
            },
            "marker": {
             "colorbar": {
              "outlinewidth": 0,
              "ticks": ""
             }
            },
            "type": "scatter3d"
           }
          ],
          "scattercarpet": [
           {
            "marker": {
             "colorbar": {
              "outlinewidth": 0,
              "ticks": ""
             }
            },
            "type": "scattercarpet"
           }
          ],
          "scattergeo": [
           {
            "marker": {
             "colorbar": {
              "outlinewidth": 0,
              "ticks": ""
             }
            },
            "type": "scattergeo"
           }
          ],
          "scattergl": [
           {
            "marker": {
             "colorbar": {
              "outlinewidth": 0,
              "ticks": ""
             }
            },
            "type": "scattergl"
           }
          ],
          "scattermap": [
           {
            "marker": {
             "colorbar": {
              "outlinewidth": 0,
              "ticks": ""
             }
            },
            "type": "scattermap"
           }
          ],
          "scattermapbox": [
           {
            "marker": {
             "colorbar": {
              "outlinewidth": 0,
              "ticks": ""
             }
            },
            "type": "scattermapbox"
           }
          ],
          "scatterpolar": [
           {
            "marker": {
             "colorbar": {
              "outlinewidth": 0,
              "ticks": ""
             }
            },
            "type": "scatterpolar"
           }
          ],
          "scatterpolargl": [
           {
            "marker": {
             "colorbar": {
              "outlinewidth": 0,
              "ticks": ""
             }
            },
            "type": "scatterpolargl"
           }
          ],
          "scatterternary": [
           {
            "marker": {
             "colorbar": {
              "outlinewidth": 0,
              "ticks": ""
             }
            },
            "type": "scatterternary"
           }
          ],
          "surface": [
           {
            "colorbar": {
             "outlinewidth": 0,
             "ticks": ""
            },
            "colorscale": [
             [
              0,
              "#0d0887"
             ],
             [
              0.1111111111111111,
              "#46039f"
             ],
             [
              0.2222222222222222,
              "#7201a8"
             ],
             [
              0.3333333333333333,
              "#9c179e"
             ],
             [
              0.4444444444444444,
              "#bd3786"
             ],
             [
              0.5555555555555556,
              "#d8576b"
             ],
             [
              0.6666666666666666,
              "#ed7953"
             ],
             [
              0.7777777777777778,
              "#fb9f3a"
             ],
             [
              0.8888888888888888,
              "#fdca26"
             ],
             [
              1,
              "#f0f921"
             ]
            ],
            "type": "surface"
           }
          ],
          "table": [
           {
            "cells": {
             "fill": {
              "color": "#EBF0F8"
             },
             "line": {
              "color": "white"
             }
            },
            "header": {
             "fill": {
              "color": "#C8D4E3"
             },
             "line": {
              "color": "white"
             }
            },
            "type": "table"
           }
          ]
         },
         "layout": {
          "annotationdefaults": {
           "arrowcolor": "#2a3f5f",
           "arrowhead": 0,
           "arrowwidth": 1
          },
          "autotypenumbers": "strict",
          "coloraxis": {
           "colorbar": {
            "outlinewidth": 0,
            "ticks": ""
           }
          },
          "colorscale": {
           "diverging": [
            [
             0,
             "#8e0152"
            ],
            [
             0.1,
             "#c51b7d"
            ],
            [
             0.2,
             "#de77ae"
            ],
            [
             0.3,
             "#f1b6da"
            ],
            [
             0.4,
             "#fde0ef"
            ],
            [
             0.5,
             "#f7f7f7"
            ],
            [
             0.6,
             "#e6f5d0"
            ],
            [
             0.7,
             "#b8e186"
            ],
            [
             0.8,
             "#7fbc41"
            ],
            [
             0.9,
             "#4d9221"
            ],
            [
             1,
             "#276419"
            ]
           ],
           "sequential": [
            [
             0,
             "#0d0887"
            ],
            [
             0.1111111111111111,
             "#46039f"
            ],
            [
             0.2222222222222222,
             "#7201a8"
            ],
            [
             0.3333333333333333,
             "#9c179e"
            ],
            [
             0.4444444444444444,
             "#bd3786"
            ],
            [
             0.5555555555555556,
             "#d8576b"
            ],
            [
             0.6666666666666666,
             "#ed7953"
            ],
            [
             0.7777777777777778,
             "#fb9f3a"
            ],
            [
             0.8888888888888888,
             "#fdca26"
            ],
            [
             1,
             "#f0f921"
            ]
           ],
           "sequentialminus": [
            [
             0,
             "#0d0887"
            ],
            [
             0.1111111111111111,
             "#46039f"
            ],
            [
             0.2222222222222222,
             "#7201a8"
            ],
            [
             0.3333333333333333,
             "#9c179e"
            ],
            [
             0.4444444444444444,
             "#bd3786"
            ],
            [
             0.5555555555555556,
             "#d8576b"
            ],
            [
             0.6666666666666666,
             "#ed7953"
            ],
            [
             0.7777777777777778,
             "#fb9f3a"
            ],
            [
             0.8888888888888888,
             "#fdca26"
            ],
            [
             1,
             "#f0f921"
            ]
           ]
          },
          "colorway": [
           "#636efa",
           "#EF553B",
           "#00cc96",
           "#ab63fa",
           "#FFA15A",
           "#19d3f3",
           "#FF6692",
           "#B6E880",
           "#FF97FF",
           "#FECB52"
          ],
          "font": {
           "color": "#2a3f5f"
          },
          "geo": {
           "bgcolor": "white",
           "lakecolor": "white",
           "landcolor": "#E5ECF6",
           "showlakes": true,
           "showland": true,
           "subunitcolor": "white"
          },
          "hoverlabel": {
           "align": "left"
          },
          "hovermode": "closest",
          "mapbox": {
           "style": "light"
          },
          "paper_bgcolor": "white",
          "plot_bgcolor": "#E5ECF6",
          "polar": {
           "angularaxis": {
            "gridcolor": "white",
            "linecolor": "white",
            "ticks": ""
           },
           "bgcolor": "#E5ECF6",
           "radialaxis": {
            "gridcolor": "white",
            "linecolor": "white",
            "ticks": ""
           }
          },
          "scene": {
           "xaxis": {
            "backgroundcolor": "#E5ECF6",
            "gridcolor": "white",
            "gridwidth": 2,
            "linecolor": "white",
            "showbackground": true,
            "ticks": "",
            "zerolinecolor": "white"
           },
           "yaxis": {
            "backgroundcolor": "#E5ECF6",
            "gridcolor": "white",
            "gridwidth": 2,
            "linecolor": "white",
            "showbackground": true,
            "ticks": "",
            "zerolinecolor": "white"
           },
           "zaxis": {
            "backgroundcolor": "#E5ECF6",
            "gridcolor": "white",
            "gridwidth": 2,
            "linecolor": "white",
            "showbackground": true,
            "ticks": "",
            "zerolinecolor": "white"
           }
          },
          "shapedefaults": {
           "line": {
            "color": "#2a3f5f"
           }
          },
          "ternary": {
           "aaxis": {
            "gridcolor": "white",
            "linecolor": "white",
            "ticks": ""
           },
           "baxis": {
            "gridcolor": "white",
            "linecolor": "white",
            "ticks": ""
           },
           "bgcolor": "#E5ECF6",
           "caxis": {
            "gridcolor": "white",
            "linecolor": "white",
            "ticks": ""
           }
          },
          "title": {
           "x": 0.05
          },
          "xaxis": {
           "automargin": true,
           "gridcolor": "white",
           "linecolor": "white",
           "ticks": "",
           "title": {
            "standoff": 15
           },
           "zerolinecolor": "white",
           "zerolinewidth": 2
          },
          "yaxis": {
           "automargin": true,
           "gridcolor": "white",
           "linecolor": "white",
           "ticks": "",
           "title": {
            "standoff": 15
           },
           "zerolinecolor": "white",
           "zerolinewidth": 2
          }
         }
        }
       }
      }
     },
     "metadata": {},
     "output_type": "display_data"
    }
   ],
   "source": [
    "fig = go.Figure()\n",
    "fig.add_trace(go.Bar(\n",
    "    name='standard',\n",
    "    x=['Deutschland', 'Schweiz', 'Österreich'], y=dplt_mean.T.loc[\"standard\", :],\n",
    "    error_y=dict(type='data', array=dplt_sem.T.loc[\"standard\", :])\n",
    "))\n",
    "fig.add_trace(go.Bar(\n",
    "    name='alemannic_austria',\n",
    "    x=['Deutschland', 'Schweiz', 'Österreich'], y=dplt_mean.T.loc[\"alemannic_austria\", :],\n",
    "    error_y=dict(type='data', array=dplt_sem.T.loc[\"alemannic_austria\", :])\n",
    "))\n",
    "fig.update_layout(barmode='group')\n",
    "fig.show()"
   ]
  }
 ],
 "metadata": {
  "kernelspec": {
   "display_name": "ds_main",
   "language": "python",
   "name": "python3"
  },
  "language_info": {
   "codemirror_mode": {
    "name": "ipython",
    "version": 3
   },
   "file_extension": ".py",
   "mimetype": "text/x-python",
   "name": "python",
   "nbconvert_exporter": "python",
   "pygments_lexer": "ipython3",
   "version": "3.10.15"
  }
 },
 "nbformat": 4,
 "nbformat_minor": 5
}
